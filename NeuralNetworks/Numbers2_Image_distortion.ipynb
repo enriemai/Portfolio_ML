{
 "cells": [
  {
   "cell_type": "markdown",
   "id": "35bae829-e046-4237-b7f5-b6c1b96dca3f",
   "metadata": {},
   "source": [
    "# Image distortion"
   ]
  },
  {
   "cell_type": "markdown",
   "id": "b15201a6-c647-4f93-b700-25ac93d7e790",
   "metadata": {},
   "source": [
    "This is a complementary file to `Example2` and the goal is develop a function that randomly distort images. We are using the same data:"
   ]
  },
  {
   "cell_type": "code",
   "execution_count": 1,
   "id": "7b7ebddc-b79b-4a4c-aa2c-ce642e0bd19e",
   "metadata": {},
   "outputs": [],
   "source": [
    "import tensorflow as tf\n",
    "import tensorflow_datasets as tfds\n",
    "\n",
    "data, metadata = tfds.load('mnist', as_supervised=True, with_info=True)\n",
    "\n",
    "data_train, data_test = data['train'], data['test']\n",
    "\n",
    "def normalize(images, labels):\n",
    "    images = tf.cast(images, tf.float32)  # cast converts pixel values to float (they usually are in uint8 format where 0 represents black and 255 white)\n",
    "    images = images / 255  # Normalize pixel values to the range [0, 1]\n",
    "    return images, labels\n",
    "\n",
    "data_train = data_train.map(normalize)\n",
    "data_test = data_test.map(normalize)\n",
    "\n",
    "# Add caching (use memory instead of disk for faster training)\n",
    "data_train = data_train.cache()\n",
    "data_test = data_test.cache()\n",
    "\n",
    "# Define the classes (digits 0-9)\n",
    "classes = ['0', '1', '2', '3', '4', '5', '6', '7', '8', '9']"
   ]
  },
  {
   "cell_type": "markdown",
   "id": "6c3e34e3-ec26-41a3-8dec-adc36a456a66",
   "metadata": {},
   "source": [
    "We want to **improve our test data set** in order to make the evaluation more precise. We are going to take `data_test`and we are going to apply random **affine transformations** to our images. An affine transformation is just a function which maps an affine space onto itself while preserving both the dimension of any affine subspaces and the ratios of the lengths of parallel line segments."
   ]
  },
  {
   "cell_type": "code",
   "execution_count": 8,
   "id": "215f58c0-f92d-4f75-9c8b-9244bd780371",
   "metadata": {},
   "outputs": [],
   "source": [
    "import numpy as np\n",
    "from scipy import ndimage as ndi\n",
    "import matplotlib.pyplot as plt"
   ]
  },
  {
   "cell_type": "markdown",
   "id": "0b897deb-fe59-498e-b44c-a7840d5d5d18",
   "metadata": {},
   "source": [
    "Before make the function, we do some testing:"
   ]
  },
  {
   "cell_type": "code",
   "execution_count": 9,
   "id": "8fc1e462-28a8-4a3e-8ae5-486f3f3f2085",
   "metadata": {},
   "outputs": [],
   "source": [
    "for (img, label) in data_test.take(1):\n",
    "    foto = img"
   ]
  },
  {
   "cell_type": "code",
   "execution_count": 10,
   "id": "102eead8-36fb-46a1-8d26-2aa96fc22492",
   "metadata": {},
   "outputs": [],
   "source": [
    "foto = foto.numpy().reshape((28,28))"
   ]
  },
  {
   "cell_type": "code",
   "execution_count": 11,
   "id": "6e16b437-f6cc-4be1-87d4-de8138694302",
   "metadata": {},
   "outputs": [],
   "source": [
    "w, h = foto.shape #there are 28 x 28"
   ]
  },
  {
   "cell_type": "code",
   "execution_count": 12,
   "id": "d3e77156-c313-48aa-a174-89a869162814",
   "metadata": {},
   "outputs": [
    {
     "data": {
      "image/png": "[encoded data removed]",
      "text/plain": [
       "<Figure size 300x300 with 1 Axes>"
      ]
     },
     "metadata": {},
     "output_type": "display_data"
    }
   ],
   "source": [
    "#Identity\n",
    "\n",
    "\n",
    "mat_identity = np.array([[1, 0, 0], [0, 1, 0], [0, 0, 1]])\n",
    "img1 = ndi.affine_transform(foto, mat_identity)\n",
    "\n",
    "plt.figure(figsize=(3,3))\n",
    "\n",
    "plt.imshow(img1, cmap=plt.cm.binary)\n",
    "plt.show()"
   ]
  },
  {
   "cell_type": "code",
   "execution_count": 13,
   "id": "8229ea42-a2f9-4429-a697-a608a6e52408",
   "metadata": {},
   "outputs": [
    {
     "data": {
      "image/png": "[encoded data removed]",
      "text/plain": [
       "<Figure size 300x300 with 1 Axes>"
      ]
     },
     "metadata": {},
     "output_type": "display_data"
    }
   ],
   "source": [
    "#Reflection\n",
    "\n",
    "mat_reflect = np.array([[1, 0, 0], [0, -1, 0], [0, 0, 1]]) @ np.array([[1, 0, 0], [0, 1, -h], [0, 0, 1]])\n",
    "img2 = ndi.affine_transform(foto, mat_reflect) # offset=(0, h)\n",
    "\n",
    "plt.figure(figsize=(3,3))\n",
    "plt.imshow(img2, cmap=plt.cm.binary)\n",
    "plt.show()\n"
   ]
  },
  {
   "cell_type": "code",
   "execution_count": 14,
   "id": "58400a2c-35a5-45a9-8e8f-5a6a5a352345",
   "metadata": {},
   "outputs": [
    {
     "data": {
      "image/png": "[encoded data removed]",
      "text/plain": [
       "<Figure size 300x300 with 1 Axes>"
      ]
     },
     "metadata": {},
     "output_type": "display_data"
    }
   ],
   "source": [
    "#Scalation\n",
    "\n",
    "s_x, s_y = 2, 1\n",
    "mat_scale = np.array([[s_x, 0, 0], [0, s_y, 0], [0, 0, 1]])\n",
    "img3 = ndi.affine_transform(foto, mat_scale)\n",
    "\n",
    "plt.figure(figsize=(3,3))\n",
    "plt.imshow(img3, cmap=plt.cm.binary)\n",
    "plt.show()"
   ]
  },
  {
   "cell_type": "code",
   "execution_count": 15,
   "id": "147fc7d1-8522-405c-832e-4b551c6afe7e",
   "metadata": {},
   "outputs": [
    {
     "data": {
      "image/png": "[encoded data removed]",
      "text/plain": [
       "<Figure size 300x300 with 1 Axes>"
      ]
     },
     "metadata": {},
     "output_type": "display_data"
    }
   ],
   "source": [
    "#Rotation\n",
    "\n",
    "theta = np.pi / 6 # 30 degrees in radians\n",
    "theta = np.random.uniform(-0.7,0.7) - np.random.uniform(-0.7,0.7)\n",
    "mat_rotate = np.array([[1, 0, w/2], [0, 1, h/2], [0, 0, 1]]) @ np.array([[np.cos(theta), np.sin(theta), 0], [-np.sin(theta), np.cos(theta), 0], [0, 0, 1]]) @ np.array([[1, 0, -w/2], [0, 1, -h/2], [0, 0, 1]])\n",
    "img4 = ndi.affine_transform(foto, mat_rotate)\n",
    "\n",
    "plt.figure(figsize=(3,3))\n",
    "plt.imshow(img4, cmap=plt.cm.binary)\n",
    "plt.show()"
   ]
  },
  {
   "cell_type": "code",
   "execution_count": 16,
   "id": "a995dc22-38c1-4398-8dda-a2390d5dafa4",
   "metadata": {},
   "outputs": [
    {
     "data": {
      "image/png": "[encoded data removed]",
      "text/plain": [
       "<Figure size 300x300 with 1 Axes>"
      ]
     },
     "metadata": {},
     "output_type": "display_data"
    }
   ],
   "source": [
    "#Shear\n",
    "\n",
    "lambda1 = -0.25\n",
    "mat_shear = np.array([[1, lambda1, 0], [lambda1, 1, 0], [0, 0, 1]])\n",
    "img5 = ndi.affine_transform(foto, mat_shear)\n",
    "\n",
    "plt.figure(figsize=(3,3))\n",
    "plt.imshow(img5, cmap=plt.cm.binary)\n",
    "plt.show()"
   ]
  },
  {
   "cell_type": "code",
   "execution_count": 17,
   "id": "198542b5-03a3-4806-a629-4c5c15fbb7cd",
   "metadata": {},
   "outputs": [
    {
     "data": {
      "image/png": "[encoded data removed]",
      "text/plain": [
       "<Figure size 300x300 with 1 Axes>"
      ]
     },
     "metadata": {},
     "output_type": "display_data"
    }
   ],
   "source": [
    "#All in one\n",
    "\n",
    "mat_all = mat_identity @ mat_scale @ mat_rotate @ mat_shear\n",
    "img_final = ndi.affine_transform(foto, mat_all)\n",
    "\n",
    "plt.figure(figsize=(3,3))\n",
    "plt.imshow(img_final, cmap=plt.cm.binary)\n",
    "plt.show()"
   ]
  },
  {
   "cell_type": "markdown",
   "id": "eef1397a-11f3-409f-9a0d-252fd9d4852e",
   "metadata": {},
   "source": [
    "Let's now define the functions of scale, rotation and shear:"
   ]
  },
  {
   "cell_type": "code",
   "execution_count": 18,
   "id": "7ea73144-076d-4a1f-827d-747e46418733",
   "metadata": {},
   "outputs": [],
   "source": [
    "def scale(foto, s_x, s_y):\n",
    "    mat_scale = np.array([[s_x, 0, 0], [0, s_y, 0], [0, 0, 1]])\n",
    "    img = ndi.affine_transform(foto, mat_scale)\n",
    "    return img\n",
    "\n",
    "def rotation(foto, theta):\n",
    "    w,h = foto.shape\n",
    "    mat_rotate = np.array([[1, 0, w/2], [0, 1, h/2], [0, 0, 1]]) @ np.array([[np.cos(theta), np.sin(theta), 0], [-np.sin(theta), np.cos(theta), 0], [0, 0, 1]]) @ np.array([[1, 0, -w/2], [0, 1, -h/2], [0, 0, 1]])\n",
    "    img = ndi.affine_transform(foto, mat_rotate)\n",
    "    return img\n",
    "\n",
    "def shear(foto, lambda1):\n",
    "    mat_shear = np.array([[1, lambda1, 0], [lambda1, 1, 0], [0, 0, 1]])\n",
    "    img = ndi.affine_transform(foto, mat_shear)\n",
    "    return img"
   ]
  },
  {
   "cell_type": "markdown",
   "id": "54937430-6fb7-427f-86e9-47174521c848",
   "metadata": {},
   "source": [
    "And now the final function, that will random all the transformations:"
   ]
  },
  {
   "cell_type": "code",
   "execution_count": 31,
   "id": "5e1ea77b-50be-40be-821a-9f493ea70589",
   "metadata": {},
   "outputs": [],
   "source": [
    "def distortion(foto): #foto is a tensorflow image\n",
    "    foto = foto.numpy().reshape((28,28))\n",
    "    #In the testing part before, we have seen which values are good for each parameter:\n",
    "    s_x = np.random.uniform(0.8,2)\n",
    "    s_y = np.random.uniform(0.8,2)\n",
    "    \n",
    "    theta = np.random.uniform(-0.5,0.5) * 1.5 #more high values than a uniform\n",
    "\n",
    "    lambda1 = np.random.uniform(-0.25,0.25)\n",
    "\n",
    "    foto1 = scale(foto, s_x, s_y)\n",
    "    foto2 = rotation(foto1, theta)\n",
    "    foto3 = shear(foto2, lambda1)\n",
    "\n",
    "    \n",
    "    foto3 = foto3.reshape((28, 28, 1))  #we add again the color chanel\n",
    "    foto3 = np.clip(foto3, 0, 1)  # Ensure values are between 0 and 1 for proper grayscale\n",
    "    \n",
    "    img = tf.convert_to_tensor(foto3)\n",
    "    return img\n"
   ]
  },
  {
   "cell_type": "code",
   "execution_count": 32,
   "id": "571fc114-510d-4720-ba39-07c3e8be7019",
   "metadata": {},
   "outputs": [],
   "source": [
    "for (image, label) in data_train.take(4):\n",
    "    fotografia = image"
   ]
  },
  {
   "cell_type": "code",
   "execution_count": 33,
   "id": "9e2ff650-1e60-4025-9268-de280b5ff002",
   "metadata": {},
   "outputs": [
    {
     "name": "stdout",
     "output_type": "stream",
     "text": [
      "La size 0 es: (28, 28)\n"
     ]
    },
    {
     "data": {
      "image/png": "[encoded data removed]",
      "text/plain": [
       "<Figure size 600x300 with 2 Axes>"
      ]
     },
     "metadata": {},
     "output_type": "display_data"
    }
   ],
   "source": [
    "plt.figure(figsize=(6,3))\n",
    "\n",
    "fotografia_numpy = fotografia.numpy().reshape((28,28))\n",
    "plt.subplot(1,2,1)\n",
    "plt.xticks([])\n",
    "plt.yticks([])\n",
    "plt.grid(False)\n",
    "plt.imshow(fotografia_numpy, cmap=plt.cm.binary)\n",
    "\n",
    "dist = distortion(fotografia)\n",
    "\n",
    "dist_numpy = dist.numpy().reshape((28,28))\n",
    "plt.subplot(1,2,2)\n",
    "plt.xticks([])\n",
    "plt.yticks([])\n",
    "plt.grid(False)\n",
    "plt.imshow(dist_numpy, cmap=plt.cm.binary)\n",
    "\n",
    "plt.show()  "
   ]
  },
  {
   "cell_type": "code",
   "execution_count": null,
   "id": "555acf79-c4ec-4b98-9cfb-7a282fa1c90f",
   "metadata": {},
   "outputs": [],
   "source": []
  }
 ],
 "metadata": {
  "kernelspec": {
   "display_name": "Python 3 (ipykernel)",
   "language": "python",
   "name": "python3"
  },
  "language_info": {
   "codemirror_mode": {
    "name": "ipython",
    "version": 3
   },
   "file_extension": ".py",
   "mimetype": "text/x-python",
   "name": "python",
   "nbconvert_exporter": "python",
   "pygments_lexer": "ipython3",
   "version": "3.12.7"
  }
 },
 "nbformat": 4,
 "nbformat_minor": 5
}
