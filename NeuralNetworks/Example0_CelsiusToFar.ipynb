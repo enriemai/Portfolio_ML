{
 "cells": [
  {
   "cell_type": "markdown",
   "id": "eb351b99-649a-4ebd-8a69-45b06f384279",
   "metadata": {},
   "source": [
    "# Neural Network trained to convert Celsius to Fahrenheit"
   ]
  },
  {
   "cell_type": "markdown",
   "id": "dc76eca0-dc66-4fc5-b15d-7ced677519e6",
   "metadata": {},
   "source": [
    "To start with my study in **Neural Networks**, I am going to build a NN that only have one input neuron and one output neuron that will recieve a tempeture in Celsius degree and return the same tempeture in Fahrenheit. We all now the formula consisting in:\n",
    "$$\n",
    "F=C \\cdot 59 + 32\n",
    "$$\n",
    "but we are not going to give the explicit formula to the NN, only some train data ($|X_{\\text{train}}|=10$).\n",
    "\n",
    "Let's define the training set:"
   ]
  },
  {
   "cell_type": "code",
   "execution_count": 91,
   "id": "c17fd0b3-f523-495b-9d49-b6aee8eeaf7b",
   "metadata": {},
   "outputs": [],
   "source": [
    "import numpy as np\n",
    "\n",
    "temp_C = np.random.uniform(-10, 40, 10)\n",
    "temp_F = (temp_C * 9/5) + 32\n"
   ]
  },
  {
   "cell_type": "code",
   "execution_count": 92,
   "id": "9c497502-1725-430b-bd91-7e14b4c4d2d2",
   "metadata": {},
   "outputs": [
    {
     "name": "stdout",
     "output_type": "stream",
     "text": [
      "The Celsius temperatures that we are using to train the model are: \n",
      " [ 2.27127574 31.64594793 -8.19250688  1.36002719 26.4836291  24.40154999\n",
      " 20.53355437  3.77363858  6.98750371 26.01313967] \n",
      " that converted in Fahrenheit are: \n",
      " [36.08829633 88.96270628 17.25348761 34.44804893 79.67053238 75.92278999\n",
      " 68.96039786 38.79254945 44.57750668 78.82365141]\n"
     ]
    }
   ],
   "source": [
    "print('The Celsius temperatures that we are using to train the model are: \\n {} \\n that converted in Fahrenheit are: \\n {}'.format(temp_C, temp_F))"
   ]
  },
  {
   "cell_type": "markdown",
   "id": "7a99ca4c-95cf-428c-a71d-36871d4d0c2f",
   "metadata": {},
   "source": [
    "So the **feature** will be `temp_C` and the **target** will be `temp_F`. To create our NN model we are using `TensorFlow` and the framework `Keras`."
   ]
  },
  {
   "cell_type": "code",
   "execution_count": 93,
   "id": "7ab88bef-65cb-4430-8840-4cca138160f5",
   "metadata": {},
   "outputs": [],
   "source": [
    "import tensorflow as tf"
   ]
  },
  {
   "cell_type": "code",
   "execution_count": 94,
   "id": "63095ad2-3120-42e6-8f2a-cdd773c4382f",
   "metadata": {},
   "outputs": [],
   "source": [
    "layer = tf.keras.layers.Dense(units = 1, input_shape = [1]) #we only have one neuron in our layer and we have 1 input\n",
    "model = tf.keras.Sequential([layer])"
   ]
  },
  {
   "cell_type": "markdown",
   "id": "8d37d6a3-201b-4846-8e64-f8edc591de8d",
   "metadata": {},
   "source": [
    "Now we define how we want our model to work:"
   ]
  },
  {
   "cell_type": "code",
   "execution_count": 95,
   "id": "faf27ad6-9158-4251-9a85-accf3f733a4c",
   "metadata": {},
   "outputs": [],
   "source": [
    "model.compile(\n",
    "    optimizer = tf.keras.optimizers.Adam(0.1), #learning rate of the model Adam\n",
    "    loss = 'mean_squared_error'\n",
    ")"
   ]
  },
  {
   "cell_type": "markdown",
   "id": "bbb6422d-e738-4097-8a78-69cb58e6130f",
   "metadata": {},
   "source": [
    "Now we can train the network:"
   ]
  },
  {
   "cell_type": "code",
   "execution_count": 96,
   "id": "065050d0-230a-45a9-b78b-457413d26f0f",
   "metadata": {},
   "outputs": [],
   "source": [
    "history = model.fit(temp_C, temp_F, epochs = 1000, verbose = False) "
   ]
  },
  {
   "cell_type": "markdown",
   "id": "6cedf114-518c-4d70-a47c-8a291cffeab1",
   "metadata": {},
   "source": [
    "Let's see the loss function evolution:"
   ]
  },
  {
   "cell_type": "code",
   "execution_count": 97,
   "id": "db980cc3-351c-4c8b-9c5a-1d929b91ba6d",
   "metadata": {},
   "outputs": [
    {
     "data": {
      "image/png": "[encoded data removed]",
      "text/plain": [
       "<Figure size 640x480 with 1 Axes>"
      ]
     },
     "metadata": {},
     "output_type": "display_data"
    }
   ],
   "source": [
    "import matplotlib.pyplot as plt\n",
    "plt.xlabel('Epoch')\n",
    "plt.ylabel('loss')\n",
    "plt.plot(history.history['loss'])\n",
    "plt.show()"
   ]
  },
  {
   "cell_type": "markdown",
   "id": "b2222fec-e033-4e8e-a731-74ee336b95ec",
   "metadata": {},
   "source": [
    "We can see it almost minimize the loss in the 600 epoch. Let's see how it performs with new data:"
   ]
  },
  {
   "cell_type": "code",
   "execution_count": 98,
   "id": "5cda9cfa-a6ec-4988-b1ad-49da8c0eaf78",
   "metadata": {},
   "outputs": [],
   "source": [
    "temp_C_test = np.random.uniform(-10, 40, 10)\n",
    "temp_F_test = (temp_C_test * 9/5) + 32\n"
   ]
  },
  {
   "cell_type": "code",
   "execution_count": 99,
   "id": "c3d57ba3-3b02-4194-accd-9d52fc0fb82e",
   "metadata": {},
   "outputs": [
    {
     "name": "stdout",
     "output_type": "stream",
     "text": [
      "WARNING:tensorflow:6 out of the last 11 calls to <function TensorFlowTrainer.make_predict_function.<locals>.one_step_on_data_distributed at 0x00000286A378E980> triggered tf.function retracing. Tracing is expensive and the excessive number of tracings could be due to (1) creating @tf.function repeatedly in a loop, (2) passing tensors with different shapes, (3) passing Python objects instead of tensors. For (1), please define your @tf.function outside of the loop. For (2), @tf.function has reduce_retracing=True option that can avoid unnecessary retracing. For (3), please refer to https://www.tensorflow.org/guide/function#controlling_retracing and https://www.tensorflow.org/api_docs/python/tf/function for  more details.\n",
      "\u001b[1m1/1\u001b[0m \u001b[32m━━━━━━━━━━━━━━━━━━━━\u001b[0m\u001b[37m\u001b[0m \u001b[1m0s\u001b[0m 42ms/step\n"
     ]
    }
   ],
   "source": [
    "temp_F_pred = model.predict(temp_C_test).flatten()"
   ]
  },
  {
   "cell_type": "code",
   "execution_count": 102,
   "id": "088a3671-7a8e-4ee1-a49b-794f1909c2a3",
   "metadata": {},
   "outputs": [
    {
     "data": {
      "text/html": [
       "<div>\n",
       "<style scoped>\n",
       "    .dataframe tbody tr th:only-of-type {\n",
       "        vertical-align: middle;\n",
       "    }\n",
       "\n",
       "    .dataframe tbody tr th {\n",
       "        vertical-align: top;\n",
       "    }\n",
       "\n",
       "    .dataframe thead th {\n",
       "        text-align: right;\n",
       "    }\n",
       "</style>\n",
       "<table border=\"1\" class=\"dataframe\">\n",
       "  <thead>\n",
       "    <tr style=\"text-align: right;\">\n",
       "      <th></th>\n",
       "      <th>Celsius</th>\n",
       "      <th>Real Fahrenheit</th>\n",
       "      <th>Predicted Fahrenheit</th>\n",
       "    </tr>\n",
       "  </thead>\n",
       "  <tbody>\n",
       "    <tr>\n",
       "      <th>0</th>\n",
       "      <td>18.014174</td>\n",
       "      <td>64.425514</td>\n",
       "      <td>64.098808</td>\n",
       "    </tr>\n",
       "    <tr>\n",
       "      <th>1</th>\n",
       "      <td>9.708721</td>\n",
       "      <td>49.475698</td>\n",
       "      <td>48.791645</td>\n",
       "    </tr>\n",
       "    <tr>\n",
       "      <th>2</th>\n",
       "      <td>36.844810</td>\n",
       "      <td>98.320657</td>\n",
       "      <td>98.804161</td>\n",
       "    </tr>\n",
       "    <tr>\n",
       "      <th>3</th>\n",
       "      <td>-0.714904</td>\n",
       "      <td>30.713174</td>\n",
       "      <td>29.580637</td>\n",
       "    </tr>\n",
       "    <tr>\n",
       "      <th>4</th>\n",
       "      <td>23.431289</td>\n",
       "      <td>74.176321</td>\n",
       "      <td>74.082695</td>\n",
       "    </tr>\n",
       "    <tr>\n",
       "      <th>5</th>\n",
       "      <td>20.111320</td>\n",
       "      <td>68.200376</td>\n",
       "      <td>67.963905</td>\n",
       "    </tr>\n",
       "    <tr>\n",
       "      <th>6</th>\n",
       "      <td>7.701684</td>\n",
       "      <td>45.863031</td>\n",
       "      <td>45.092625</td>\n",
       "    </tr>\n",
       "    <tr>\n",
       "      <th>7</th>\n",
       "      <td>17.607821</td>\n",
       "      <td>63.694077</td>\n",
       "      <td>63.349892</td>\n",
       "    </tr>\n",
       "    <tr>\n",
       "      <th>8</th>\n",
       "      <td>27.359975</td>\n",
       "      <td>81.247956</td>\n",
       "      <td>81.323364</td>\n",
       "    </tr>\n",
       "    <tr>\n",
       "      <th>9</th>\n",
       "      <td>37.881651</td>\n",
       "      <td>100.186972</td>\n",
       "      <td>100.715088</td>\n",
       "    </tr>\n",
       "  </tbody>\n",
       "</table>\n",
       "</div>"
      ],
      "text/plain": [
       "     Celsius  Real Fahrenheit  Predicted Fahrenheit\n",
       "0  18.014174        64.425514             64.098808\n",
       "1   9.708721        49.475698             48.791645\n",
       "2  36.844810        98.320657             98.804161\n",
       "3  -0.714904        30.713174             29.580637\n",
       "4  23.431289        74.176321             74.082695\n",
       "5  20.111320        68.200376             67.963905\n",
       "6   7.701684        45.863031             45.092625\n",
       "7  17.607821        63.694077             63.349892\n",
       "8  27.359975        81.247956             81.323364\n",
       "9  37.881651       100.186972            100.715088"
      ]
     },
     "execution_count": 102,
     "metadata": {},
     "output_type": "execute_result"
    }
   ],
   "source": [
    "import pandas as pd\n",
    "\n",
    "comparation = pd.DataFrame({'Celsius': temp_C_test, 'Real Fahrenheit': temp_F_test, 'Predicted Fahrenheit':temp_F_pred})\n",
    "\n",
    "comparation"
   ]
  },
  {
   "cell_type": "code",
   "execution_count": 107,
   "id": "83180db5-fc8d-4c4e-809e-c6bf46f60f5d",
   "metadata": {},
   "outputs": [
    {
     "data": {
      "text/plain": [
       "[array([[1.8430258]], dtype=float32), array([30.898222], dtype=float32)]"
      ]
     },
     "execution_count": 107,
     "metadata": {},
     "output_type": "execute_result"
    }
   ],
   "source": [
    "layer.get_weights() #very similar to the constant in the reaL formula"
   ]
  },
  {
   "cell_type": "code",
   "execution_count": 106,
   "id": "f34d5713-a1e2-4944-9fdb-a26922e3e9e2",
   "metadata": {},
   "outputs": [
    {
     "name": "stdout",
     "output_type": "stream",
     "text": [
      "The MSE is 0.3152, which is pretty good considering we only used 10 training data\n"
     ]
    }
   ],
   "source": [
    "mse = np.mean((temp_F_test - temp_F_pred)**2)\n",
    "print('The MSE is {}, which is pretty good considering we only used 10 training data'.format(mse.round(4)))"
   ]
  },
  {
   "cell_type": "markdown",
   "id": "06f013c3-b84c-404d-a829-4347bd1a2859",
   "metadata": {},
   "source": []
  },
  {
   "cell_type": "markdown",
   "id": "d3e220aa-865e-4b35-ab8a-20b6137781c7",
   "metadata": {},
   "source": [
    "Let's see now if we can improve the NN adding more layers. Anyway, by adding just new layers and more neurons we do not change the fact that it is still a linear parameter adjustment. We also should add **activations function**:"
   ]
  },
  {
   "cell_type": "code",
   "execution_count": 108,
   "id": "36f5476d-0b50-4d3d-b704-55e9762c2bf9",
   "metadata": {},
   "outputs": [
    {
     "name": "stderr",
     "output_type": "stream",
     "text": [
      "C:\\Users\\emaie\\Desktop\\Porfolio2024\\entorno\\Lib\\site-packages\\keras\\src\\layers\\core\\dense.py:87: UserWarning: Do not pass an `input_shape`/`input_dim` argument to a layer. When using Sequential models, prefer using an `Input(shape)` object as the first layer in the model instead.\n",
      "  super().__init__(activity_regularizer=activity_regularizer, **kwargs)\n"
     ]
    }
   ],
   "source": [
    "hidden1 = tf.keras.layers.Dense(units=3, input_shape=[1], activation=tf.nn.relu)\n",
    "hidden2 = tf.keras.layers.Dense(units=3, activation=tf.nn.relu)\n",
    "output = tf.keras.layers.Dense(units=1)\n",
    "modelo2 = tf.keras.Sequential([hidden1, hidden2, output])"
   ]
  },
  {
   "cell_type": "code",
   "execution_count": 109,
   "id": "3a605aef-34cd-42b2-ad1a-8283f6fe7b3b",
   "metadata": {},
   "outputs": [],
   "source": [
    "model.compile(\n",
    "    optimizer = tf.keras.optimizers.Adam(0.1), #learning rate of the model Adam\n",
    "    loss = 'mean_squared_error'\n",
    ")\n",
    "history = model.fit(temp_C, temp_F, epochs = 500, verbose = False)"
   ]
  },
  {
   "cell_type": "code",
   "execution_count": 110,
   "id": "6941fc2e-8469-47bf-ac38-e917572c77b8",
   "metadata": {},
   "outputs": [],
   "source": [
    "temp_C_test2 = np.random.uniform(-10, 40, 10)\n",
    "temp_F_test2 = (temp_C_test * 9/5) + 32\n"
   ]
  },
  {
   "cell_type": "code",
   "execution_count": 111,
   "id": "f879f27d-eca9-4bfa-ba49-b4434ef5aaaf",
   "metadata": {},
   "outputs": [
    {
     "name": "stdout",
     "output_type": "stream",
     "text": [
      "\u001b[1m1/1\u001b[0m \u001b[32m━━━━━━━━━━━━━━━━━━━━\u001b[0m\u001b[37m\u001b[0m \u001b[1m0s\u001b[0m 54ms/step\n"
     ]
    }
   ],
   "source": [
    "temp_F_pred2 = model.predict(temp_C_test).flatten()"
   ]
  },
  {
   "cell_type": "code",
   "execution_count": 115,
   "id": "b96eedf1-7b69-4e58-a977-472d67cad120",
   "metadata": {},
   "outputs": [
    {
     "name": "stdout",
     "output_type": "stream",
     "text": [
      "The MSE is 9.633898803981073e-12, which is pretty good considering we only used 10 training data\n"
     ]
    }
   ],
   "source": [
    "mse = np.mean((temp_F_test2 - temp_F_pred2)**2)\n",
    "print('The MSE is {}, which is pretty good considering we only used 10 training data'.format(mse))"
   ]
  },
  {
   "cell_type": "code",
   "execution_count": 116,
   "id": "210d0a4e-396e-4cc6-bf3c-033003aa5077",
   "metadata": {},
   "outputs": [
    {
     "data": {
      "image/png": "[encoded data removed]",
      "text/plain": [
       "<Figure size 640x480 with 1 Axes>"
      ]
     },
     "metadata": {},
     "output_type": "display_data"
    }
   ],
   "source": [
    "plt.title('Second Model')\n",
    "plt.xlabel('Epoch')\n",
    "plt.ylabel('loss')\n",
    "plt.plot(history.history['loss'])\n",
    "plt.show()"
   ]
  },
  {
   "cell_type": "markdown",
   "id": "0b44172a-5c18-41dd-9772-edd2ef74302e",
   "metadata": {},
   "source": [
    "We have could see that the second model is much more powerful than the first one. "
   ]
  }
 ],
 "metadata": {
  "kernelspec": {
   "display_name": "Python 3 (ipykernel)",
   "language": "python",
   "name": "python3"
  },
  "language_info": {
   "codemirror_mode": {
    "name": "ipython",
    "version": 3
   },
   "file_extension": ".py",
   "mimetype": "text/x-python",
   "name": "python",
   "nbconvert_exporter": "python",
   "pygments_lexer": "ipython3",
   "version": "3.12.7"
  }
 },
 "nbformat": 4,
 "nbformat_minor": 5
}
