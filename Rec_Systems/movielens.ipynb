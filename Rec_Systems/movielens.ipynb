{
 "cells": [
  {
   "cell_type": "markdown",
   "id": "f6777324-c17c-4a5b-ac23-cf4c61d742a2",
   "metadata": {},
   "source": [
    "# **Recommendations systems on MovieLens**"
   ]
  },
  {
   "cell_type": "markdown",
   "id": "6da8ee38-3fa6-4ecf-885b-6425a64651fe",
   "metadata": {},
   "source": [
    "### Introduction\n",
    "\n",
    "`Recommender systems` are used in all current online service companies, helping both the company and the user to receive content that they are interested in.\n",
    "\n",
    "\n",
    "In this project, I am going to explore the implementation of different types of recommender systems using the MovieLens dataset provided by 'The Department of Computer Science and Engineering at the University of Minnesota' and that we can find in: https://grouplens.org/datasets/movielens/ \n",
    "\n",
    "I start the project with a data cleaning aimed at removing all unused features and duplicate data and I deal with missing data that I get by using scraping techniques. In addition, I added new features in order to make the data set richer and capture more complex patterns.\n",
    "Next, I perform an exploratory data analysis in which we can get an idea of how the data is distributed using both visual and probabilistic techniques.\n",
    "\n",
    "Finally, I develop a **content-based recommender**, which utilizes movie attributes to suggest similar movies and also a **collaborative filtering recommender** based on user-movies interaction matrix."
   ]
  },
  {
   "cell_type": "markdown",
   "id": "64007bd7-6a28-43e3-9a70-289d11770c1b",
   "metadata": {},
   "source": [
    "## **0. Import main libraries**"
   ]
  },
  {
   "cell_type": "code",
   "execution_count": 1,
   "id": "5727bb4c-090f-4468-8a1c-7a17c599a1de",
   "metadata": {},
   "outputs": [],
   "source": [
    "import pandas as pd\n",
    "import numpy as np\n",
    "import matplotlib.pyplot as plt\n",
    "import seaborn as sns"
   ]
  },
  {
   "cell_type": "markdown",
   "id": "69539737-ee11-44d0-8da2-6b356533bad2",
   "metadata": {},
   "source": [
    "## **1. Load data sets**"
   ]
  },
  {
   "cell_type": "markdown",
   "id": "664bfcfb-953f-41ee-a40c-28c2cae8e533",
   "metadata": {},
   "source": [
    "First, we need to download the data. As we want to work with the latest data set, we download it directly from the oficial site:"
   ]
  },
  {
   "cell_type": "code",
   "execution_count": 2,
   "id": "a185120d-e523-4514-9608-8e5d32c27894",
   "metadata": {},
   "outputs": [
    {
     "name": "stderr",
     "output_type": "stream",
     "text": [
      "  % Total    % Received % Xferd  Average Speed   Time    Time     Time  Current\n",
      "                                 Dload  Upload   Total   Spent    Left  Speed\n",
      "\n",
      "  0     0    0     0    0     0      0      0 --:--:-- --:--:-- --:--:--     0\n",
      "  2  955k    2 23083    0     0  22404      0  0:00:43  0:00:01  0:00:42 22476\n",
      " 54  955k   54  520k    0     0   264k      0  0:00:03  0:00:01  0:00:02  264k\n",
      "100  955k  100  955k    0     0   432k      0  0:00:02  0:00:02 --:--:--  433k\n"
     ]
    }
   ],
   "source": [
    "!curl http://files.grouplens.org/datasets/movielens/ml-latest-small.zip -o ml-latest-small.zip"
   ]
  },
  {
   "cell_type": "markdown",
   "id": "e2ea8190-2dd1-41a1-a7ee-32dccb64474e",
   "metadata": {},
   "source": [
    "We have to extract the data from the .zip file:"
   ]
  },
  {
   "cell_type": "code",
   "execution_count": 3,
   "id": "e167d82d-09cd-45d1-8c2e-89b6b0692c8b",
   "metadata": {},
   "outputs": [],
   "source": [
    "import zipfile\n",
    "with zipfile.ZipFile('ml-latest-small.zip','r') as zip_:\n",
    "    zip_.extractall('data')"
   ]
  },
  {
   "cell_type": "markdown",
   "id": "cf7afb0a-51aa-4e04-929c-febcc2a77b66",
   "metadata": {},
   "source": [
    "Finally, we can load the data sets:"
   ]
  },
  {
   "cell_type": "code",
   "execution_count": 4,
   "id": "8b337d1d-48b1-48ca-b24d-2a43165baef6",
   "metadata": {},
   "outputs": [],
   "source": [
    "movies_df = pd.read_csv('./data/ml-latest-small/movies.csv')\n",
    "ratings_df = pd.read_csv('./data/ml-latest-small/ratings.csv')"
   ]
  },
  {
   "cell_type": "markdown",
   "id": "b929382c-1a41-49ba-82bf-25850367a3e6",
   "metadata": {},
   "source": [
    "## **2. Data Cleaning and feature engineering**"
   ]
  },
  {
   "cell_type": "markdown",
   "id": "669b2889-2161-48e3-bbd6-b9e9bffd59a3",
   "metadata": {},
   "source": [
    "In this section, we are dealing with empty cells and duplicates in our data as well as some preprocessing of our data. "
   ]
  },
  {
   "cell_type": "markdown",
   "id": "dba8ecd8-9c47-4fd6-88d7-ed100f4477f8",
   "metadata": {},
   "source": [
    "Let's have a look at the data:"
   ]
  },
  {
   "cell_type": "code",
   "execution_count": 5,
   "id": "346e0a61-64ec-41ea-9ba4-6100f9c646d2",
   "metadata": {},
   "outputs": [
    {
     "data": {
      "text/html": [
       "<div>\n",
       "<style scoped>\n",
       "    .dataframe tbody tr th:only-of-type {\n",
       "        vertical-align: middle;\n",
       "    }\n",
       "\n",
       "    .dataframe tbody tr th {\n",
       "        vertical-align: top;\n",
       "    }\n",
       "\n",
       "    .dataframe thead th {\n",
       "        text-align: right;\n",
       "    }\n",
       "</style>\n",
       "<table border=\"1\" class=\"dataframe\">\n",
       "  <thead>\n",
       "    <tr style=\"text-align: right;\">\n",
       "      <th></th>\n",
       "      <th>movieId</th>\n",
       "      <th>title</th>\n",
       "      <th>genres</th>\n",
       "    </tr>\n",
       "  </thead>\n",
       "  <tbody>\n",
       "    <tr>\n",
       "      <th>0</th>\n",
       "      <td>1</td>\n",
       "      <td>Toy Story (1995)</td>\n",
       "      <td>Adventure|Animation|Children|Comedy|Fantasy</td>\n",
       "    </tr>\n",
       "    <tr>\n",
       "      <th>1</th>\n",
       "      <td>2</td>\n",
       "      <td>Jumanji (1995)</td>\n",
       "      <td>Adventure|Children|Fantasy</td>\n",
       "    </tr>\n",
       "    <tr>\n",
       "      <th>2</th>\n",
       "      <td>3</td>\n",
       "      <td>Grumpier Old Men (1995)</td>\n",
       "      <td>Comedy|Romance</td>\n",
       "    </tr>\n",
       "    <tr>\n",
       "      <th>3</th>\n",
       "      <td>4</td>\n",
       "      <td>Waiting to Exhale (1995)</td>\n",
       "      <td>Comedy|Drama|Romance</td>\n",
       "    </tr>\n",
       "    <tr>\n",
       "      <th>4</th>\n",
       "      <td>5</td>\n",
       "      <td>Father of the Bride Part II (1995)</td>\n",
       "      <td>Comedy</td>\n",
       "    </tr>\n",
       "  </tbody>\n",
       "</table>\n",
       "</div>"
      ],
      "text/plain": [
       "   movieId                               title  \\\n",
       "0        1                    Toy Story (1995)   \n",
       "1        2                      Jumanji (1995)   \n",
       "2        3             Grumpier Old Men (1995)   \n",
       "3        4            Waiting to Exhale (1995)   \n",
       "4        5  Father of the Bride Part II (1995)   \n",
       "\n",
       "                                        genres  \n",
       "0  Adventure|Animation|Children|Comedy|Fantasy  \n",
       "1                   Adventure|Children|Fantasy  \n",
       "2                               Comedy|Romance  \n",
       "3                         Comedy|Drama|Romance  \n",
       "4                                       Comedy  "
      ]
     },
     "execution_count": 5,
     "metadata": {},
     "output_type": "execute_result"
    }
   ],
   "source": [
    "movies_df.head()"
   ]
  },
  {
   "cell_type": "markdown",
   "id": "a5e13dea-8e99-4df5-8b38-15eb0a774a0e",
   "metadata": {},
   "source": [
    "We can see that each row contains the 'movieId' (that will be essential to relation the two data sets), the 'title' and the 'genres'. This data frame give us information solely about the movies.\n",
    "\n",
    "With this data we could do a really basic clustering classifying films by genres, but we are going to improve the data set by adding new features.\n",
    "\n",
    "The data frame is sort by the 'movieId' (also 'year' and 'genres' in that order) and the bijection 'movieid' - 'movie' seems to be increasing in year with exceptions."
   ]
  },
  {
   "cell_type": "code",
   "execution_count": 80,
   "id": "5225df51-4c36-4726-97c4-28d0b8cdc4f5",
   "metadata": {},
   "outputs": [
    {
     "data": {
      "text/html": [
       "<div>\n",
       "<style scoped>\n",
       "    .dataframe tbody tr th:only-of-type {\n",
       "        vertical-align: middle;\n",
       "    }\n",
       "\n",
       "    .dataframe tbody tr th {\n",
       "        vertical-align: top;\n",
       "    }\n",
       "\n",
       "    .dataframe thead th {\n",
       "        text-align: right;\n",
       "    }\n",
       "</style>\n",
       "<table border=\"1\" class=\"dataframe\">\n",
       "  <thead>\n",
       "    <tr style=\"text-align: right;\">\n",
       "      <th></th>\n",
       "      <th>userId</th>\n",
       "      <th>movieId</th>\n",
       "      <th>rating</th>\n",
       "    </tr>\n",
       "  </thead>\n",
       "  <tbody>\n",
       "    <tr>\n",
       "      <th>0</th>\n",
       "      <td>1</td>\n",
       "      <td>1</td>\n",
       "      <td>4.0</td>\n",
       "    </tr>\n",
       "    <tr>\n",
       "      <th>1</th>\n",
       "      <td>1</td>\n",
       "      <td>3</td>\n",
       "      <td>4.0</td>\n",
       "    </tr>\n",
       "    <tr>\n",
       "      <th>2</th>\n",
       "      <td>1</td>\n",
       "      <td>6</td>\n",
       "      <td>4.0</td>\n",
       "    </tr>\n",
       "    <tr>\n",
       "      <th>3</th>\n",
       "      <td>1</td>\n",
       "      <td>47</td>\n",
       "      <td>5.0</td>\n",
       "    </tr>\n",
       "    <tr>\n",
       "      <th>4</th>\n",
       "      <td>1</td>\n",
       "      <td>50</td>\n",
       "      <td>5.0</td>\n",
       "    </tr>\n",
       "  </tbody>\n",
       "</table>\n",
       "</div>"
      ],
      "text/plain": [
       "   userId  movieId  rating\n",
       "0       1        1     4.0\n",
       "1       1        3     4.0\n",
       "2       1        6     4.0\n",
       "3       1       47     5.0\n",
       "4       1       50     5.0"
      ]
     },
     "execution_count": 80,
     "metadata": {},
     "output_type": "execute_result"
    }
   ],
   "source": [
    "ratings_df.head()"
   ]
  },
  {
   "cell_type": "markdown",
   "id": "e45f30ba-b28f-4765-895f-84497fc6eb6b",
   "metadata": {},
   "source": [
    "Here, we can already see that we are going to work with relational datasets, since to know the details of the movie 'i' (to which the user 'j' gave a score of 4) we have to resort to the other table.\n",
    "\n",
    "In this dataframe we have implicitly an `user-item interactions matrix` given in its sparse form by 'userId', 'movieId' and 'rating'. \n",
    "\n",
    "We can also observe the df is sort by 'userId' and 'movieId', in that order."
   ]
  },
  {
   "cell_type": "markdown",
   "id": "593b3516-25c2-48df-b434-684fe6ae3731",
   "metadata": {},
   "source": [
    "### **Null values, duplicates and unrated movies**"
   ]
  },
  {
   "cell_type": "code",
   "execution_count": 7,
   "id": "128c79c5-8d91-47af-b858-8f193ddd77df",
   "metadata": {
    "scrolled": true
   },
   "outputs": [
    {
     "name": "stdout",
     "output_type": "stream",
     "text": [
      "<class 'pandas.core.frame.DataFrame'>\n",
      "RangeIndex: 9742 entries, 0 to 9741\n",
      "Data columns (total 3 columns):\n",
      " #   Column   Non-Null Count  Dtype \n",
      "---  ------   --------------  ----- \n",
      " 0   movieId  9742 non-null   int64 \n",
      " 1   title    9742 non-null   object\n",
      " 2   genres   9742 non-null   object\n",
      "dtypes: int64(1), object(2)\n",
      "memory usage: 228.5+ KB\n",
      "None\n",
      "<class 'pandas.core.frame.DataFrame'>\n",
      "RangeIndex: 100836 entries, 0 to 100835\n",
      "Data columns (total 4 columns):\n",
      " #   Column     Non-Null Count   Dtype  \n",
      "---  ------     --------------   -----  \n",
      " 0   userId     100836 non-null  int64  \n",
      " 1   movieId    100836 non-null  int64  \n",
      " 2   rating     100836 non-null  float64\n",
      " 3   timestamp  100836 non-null  int64  \n",
      "dtypes: float64(1), int64(3)\n",
      "memory usage: 3.1 MB\n",
      "None\n"
     ]
    }
   ],
   "source": [
    "print(movies_df.info())\n",
    "print(ratings_df.info())"
   ]
  },
  {
   "cell_type": "markdown",
   "id": "b5244a0c-c8f2-4de8-b2be-5f095805d32f",
   "metadata": {},
   "source": [
    "It does not seem the data has null values."
   ]
  },
  {
   "cell_type": "markdown",
   "id": "1aeed29d-c14d-41f5-b860-e53bdc56da39",
   "metadata": {},
   "source": [
    "Let's see if we have duplicates in our data (we just have to do this with the movies titles):"
   ]
  },
  {
   "cell_type": "code",
   "execution_count": 8,
   "id": "bb7acdca-fbd7-4c9c-8533-afda11ed7c45",
   "metadata": {},
   "outputs": [
    {
     "name": "stdout",
     "output_type": "stream",
     "text": [
      "We have 5 movies that are duplicate\n"
     ]
    }
   ],
   "source": [
    "print('We have {} movies that are duplicate'.format(movies_df['title'].duplicated().sum()))"
   ]
  },
  {
   "cell_type": "markdown",
   "id": "e862a145-2c4c-4c22-8c9b-e72ea80f2c7c",
   "metadata": {},
   "source": [
    "Let's find out which one are:"
   ]
  },
  {
   "cell_type": "code",
   "execution_count": 9,
   "id": "a0853598-e350-4c55-935f-e94137bc7efa",
   "metadata": {},
   "outputs": [
    {
     "data": {
      "text/html": [
       "<div>\n",
       "<style scoped>\n",
       "    .dataframe tbody tr th:only-of-type {\n",
       "        vertical-align: middle;\n",
       "    }\n",
       "\n",
       "    .dataframe tbody tr th {\n",
       "        vertical-align: top;\n",
       "    }\n",
       "\n",
       "    .dataframe thead th {\n",
       "        text-align: right;\n",
       "    }\n",
       "</style>\n",
       "<table border=\"1\" class=\"dataframe\">\n",
       "  <thead>\n",
       "    <tr style=\"text-align: right;\">\n",
       "      <th></th>\n",
       "      <th>movieId</th>\n",
       "      <th>title</th>\n",
       "      <th>genres</th>\n",
       "    </tr>\n",
       "  </thead>\n",
       "  <tbody>\n",
       "    <tr>\n",
       "      <th>5601</th>\n",
       "      <td>26958</td>\n",
       "      <td>Emma (1996)</td>\n",
       "      <td>Romance</td>\n",
       "    </tr>\n",
       "    <tr>\n",
       "      <th>6932</th>\n",
       "      <td>64997</td>\n",
       "      <td>War of the Worlds (2005)</td>\n",
       "      <td>Action|Sci-Fi</td>\n",
       "    </tr>\n",
       "    <tr>\n",
       "      <th>9106</th>\n",
       "      <td>144606</td>\n",
       "      <td>Confessions of a Dangerous Mind (2002)</td>\n",
       "      <td>Comedy|Crime|Drama|Romance|Thriller</td>\n",
       "    </tr>\n",
       "    <tr>\n",
       "      <th>9135</th>\n",
       "      <td>147002</td>\n",
       "      <td>Eros (2004)</td>\n",
       "      <td>Drama|Romance</td>\n",
       "    </tr>\n",
       "    <tr>\n",
       "      <th>9468</th>\n",
       "      <td>168358</td>\n",
       "      <td>Saturn 3 (1980)</td>\n",
       "      <td>Sci-Fi|Thriller</td>\n",
       "    </tr>\n",
       "  </tbody>\n",
       "</table>\n",
       "</div>"
      ],
      "text/plain": [
       "      movieId                                   title  \\\n",
       "5601    26958                             Emma (1996)   \n",
       "6932    64997                War of the Worlds (2005)   \n",
       "9106   144606  Confessions of a Dangerous Mind (2002)   \n",
       "9135   147002                             Eros (2004)   \n",
       "9468   168358                         Saturn 3 (1980)   \n",
       "\n",
       "                                   genres  \n",
       "5601                              Romance  \n",
       "6932                        Action|Sci-Fi  \n",
       "9106  Comedy|Crime|Drama|Romance|Thriller  \n",
       "9135                        Drama|Romance  \n",
       "9468                      Sci-Fi|Thriller  "
      ]
     },
     "execution_count": 9,
     "metadata": {},
     "output_type": "execute_result"
    }
   ],
   "source": [
    "duplicate = movies_df[movies_df['title'].duplicated() == True]\n",
    "duplicate"
   ]
  },
  {
   "cell_type": "raw",
   "id": "9419dea8-867e-4890-aebe-97bfa74b02dc",
   "metadata": {},
   "source": [
    "This method gave us the second or next appearance of the movie in the dataset. Let's drop them. But, as both data sets are in relation, we have to delete the occurrences in both df:"
   ]
  },
  {
   "cell_type": "code",
   "execution_count": 10,
   "id": "39dd1555-7add-4b60-bca6-06a326c034d3",
   "metadata": {},
   "outputs": [],
   "source": [
    "duplicate_movieId = list(duplicate.movieId)\n",
    "duplicate_movie_index = list(duplicate.index)\n",
    "ratings_duplicate_movies = ratings_df[ratings_df['movieId'].isin(duplicate_movieId)]"
   ]
  },
  {
   "cell_type": "code",
   "execution_count": 11,
   "id": "8313f3ee-cc31-4f7f-a49e-518867a86910",
   "metadata": {},
   "outputs": [
    {
     "name": "stdout",
     "output_type": "stream",
     "text": [
      "We have 0 movies that are duplicate\n"
     ]
    }
   ],
   "source": [
    "ratings_df.drop(ratings_duplicate_movies.index, inplace = True)\n",
    "movies_df.drop(duplicate.index, inplace = True)\n",
    "print('We have {} movies that are duplicate'.format(movies_df['title'].duplicated().sum()))"
   ]
  },
  {
   "cell_type": "markdown",
   "id": "7e9f81b6-3331-480c-8665-e072913a99a2",
   "metadata": {},
   "source": [
    "Last but not least, we have to eliminate the movies that have not any rating:"
   ]
  },
  {
   "cell_type": "code",
   "execution_count": 12,
   "id": "265a2e73-9b71-4e01-b0d5-7ca609d036a6",
   "metadata": {},
   "outputs": [
    {
     "name": "stdout",
     "output_type": "stream",
     "text": [
      "We have 9737 movies but only 9719 are rated\n"
     ]
    }
   ],
   "source": [
    "print('We have {} movies but only {} are rated'.format(movies_df['movieId'].nunique(),ratings_df['movieId'].nunique()))"
   ]
  },
  {
   "cell_type": "code",
   "execution_count": 13,
   "id": "ffa5d396-b0cf-4c0f-8fad-f01a87bef971",
   "metadata": {},
   "outputs": [],
   "source": [
    "no_rated = set(movies_df['movieId']) - set(ratings_df['movieId'])\n",
    "no_info = set(ratings_df['movieId']) - set(movies_df['movieId']) #this happens to be the empty set, so we have not got movies without information\n",
    "no_rated_index = movies_df[movies_df['movieId'].isin(no_rated)].index\n",
    "movies_df.drop(no_rated_index, inplace = True)"
   ]
  },
  {
   "cell_type": "code",
   "execution_count": 14,
   "id": "8644484a-2821-4c5d-9c24-822db262087d",
   "metadata": {},
   "outputs": [
    {
     "name": "stdout",
     "output_type": "stream",
     "text": [
      "We have 9719 movies and 9719 are rated.\n"
     ]
    }
   ],
   "source": [
    "print('We have {} movies and {} are rated.'.format(movies_df['movieId'].nunique(),ratings_df['movieId'].nunique()))"
   ]
  },
  {
   "cell_type": "markdown",
   "id": "62d9aa74-ba3b-4246-8fc5-e1e1059d3e66",
   "metadata": {},
   "source": [
    "### **Release Year**"
   ]
  },
  {
   "cell_type": "markdown",
   "id": "3381ae82-3130-49dd-9dc7-85edce249a44",
   "metadata": {},
   "source": [
    "Now, at the movies_df, we want to separate the title and the year. We are needing the module re to manage regular expressions: "
   ]
  },
  {
   "cell_type": "code",
   "execution_count": 15,
   "id": "08d7e77f-1aa7-4cc2-9956-9d935756df3c",
   "metadata": {},
   "outputs": [],
   "source": [
    "import re"
   ]
  },
  {
   "cell_type": "markdown",
   "id": "e117d243-0e4d-4bbe-9928-4a3726c54089",
   "metadata": {},
   "source": [
    "As the year is the last number in the string 'title', we define the following function:"
   ]
  },
  {
   "cell_type": "code",
   "execution_count": 16,
   "id": "9a8baef6-86a6-440f-8178-bd7a12d0ad3d",
   "metadata": {},
   "outputs": [],
   "source": [
    "def find_year (title):\n",
    "    try:\n",
    "        numbers = re.findall(r'\\(\\d+\\)', title)\n",
    "        year = numbers[len(numbers)-1]\n",
    "        year = re.sub(r'[\\(\\)]','',year)\n",
    "        year = int(year)\n",
    "    except:\n",
    "        year = None\n",
    "    return year"
   ]
  },
  {
   "cell_type": "code",
   "execution_count": 17,
   "id": "ceb95a84-e324-46c5-81a1-9b03e208874b",
   "metadata": {},
   "outputs": [],
   "source": [
    "years = movies_df['title'].apply(lambda x: find_year(x))\n",
    "\n",
    "#We are going to work with a copy of movies_df to modify the values\n",
    "movies = movies_df.copy()\n",
    "movies['year'] = years"
   ]
  },
  {
   "cell_type": "code",
   "execution_count": 18,
   "id": "3c23dc63-7c85-4101-ae11-395497032617",
   "metadata": {},
   "outputs": [
    {
     "name": "stdout",
     "output_type": "stream",
     "text": [
      "<class 'pandas.core.series.Series'>\n",
      "Index: 9719 entries, 0 to 9741\n",
      "Series name: year\n",
      "Non-Null Count  Dtype  \n",
      "--------------  -----  \n",
      "9706 non-null   float64\n",
      "dtypes: float64(1)\n",
      "memory usage: 151.9 KB\n"
     ]
    }
   ],
   "source": [
    "movies['year'].info()"
   ]
  },
  {
   "cell_type": "markdown",
   "id": "952b139e-c3fc-4baf-9291-426fd6660ff7",
   "metadata": {},
   "source": [
    "We can observe 10 movies have no year of release. Although there is not much data left and we are not going to work much with the `year` column, it is a good exercise to obtain the year of release using `requests` and `bs4`:"
   ]
  },
  {
   "cell_type": "code",
   "execution_count": 19,
   "id": "66087f89-7d37-4b95-a071-eedacaa1c519",
   "metadata": {},
   "outputs": [
    {
     "data": {
      "text/html": [
       "<div>\n",
       "<style scoped>\n",
       "    .dataframe tbody tr th:only-of-type {\n",
       "        vertical-align: middle;\n",
       "    }\n",
       "\n",
       "    .dataframe tbody tr th {\n",
       "        vertical-align: top;\n",
       "    }\n",
       "\n",
       "    .dataframe thead th {\n",
       "        text-align: right;\n",
       "    }\n",
       "</style>\n",
       "<table border=\"1\" class=\"dataframe\">\n",
       "  <thead>\n",
       "    <tr style=\"text-align: right;\">\n",
       "      <th></th>\n",
       "      <th>movieId</th>\n",
       "      <th>title</th>\n",
       "      <th>genres</th>\n",
       "      <th>year</th>\n",
       "    </tr>\n",
       "  </thead>\n",
       "  <tbody>\n",
       "    <tr>\n",
       "      <th>6059</th>\n",
       "      <td>40697</td>\n",
       "      <td>Babylon 5</td>\n",
       "      <td>Sci-Fi</td>\n",
       "      <td>NaN</td>\n",
       "    </tr>\n",
       "    <tr>\n",
       "      <th>9031</th>\n",
       "      <td>140956</td>\n",
       "      <td>Ready Player One</td>\n",
       "      <td>Action|Sci-Fi|Thriller</td>\n",
       "      <td>NaN</td>\n",
       "    </tr>\n",
       "    <tr>\n",
       "      <th>9091</th>\n",
       "      <td>143410</td>\n",
       "      <td>Hyena Road</td>\n",
       "      <td>(no genres listed)</td>\n",
       "      <td>NaN</td>\n",
       "    </tr>\n",
       "    <tr>\n",
       "      <th>9138</th>\n",
       "      <td>147250</td>\n",
       "      <td>The Adventures of Sherlock Holmes and Doctor W...</td>\n",
       "      <td>(no genres listed)</td>\n",
       "      <td>NaN</td>\n",
       "    </tr>\n",
       "    <tr>\n",
       "      <th>9179</th>\n",
       "      <td>149334</td>\n",
       "      <td>Nocturnal Animals</td>\n",
       "      <td>Drama|Thriller</td>\n",
       "      <td>NaN</td>\n",
       "    </tr>\n",
       "    <tr>\n",
       "      <th>9259</th>\n",
       "      <td>156605</td>\n",
       "      <td>Paterson</td>\n",
       "      <td>(no genres listed)</td>\n",
       "      <td>NaN</td>\n",
       "    </tr>\n",
       "    <tr>\n",
       "      <th>9367</th>\n",
       "      <td>162414</td>\n",
       "      <td>Moonlight</td>\n",
       "      <td>Drama</td>\n",
       "      <td>NaN</td>\n",
       "    </tr>\n",
       "    <tr>\n",
       "      <th>9448</th>\n",
       "      <td>167570</td>\n",
       "      <td>The OA</td>\n",
       "      <td>(no genres listed)</td>\n",
       "      <td>NaN</td>\n",
       "    </tr>\n",
       "    <tr>\n",
       "      <th>9514</th>\n",
       "      <td>171495</td>\n",
       "      <td>Cosmos</td>\n",
       "      <td>(no genres listed)</td>\n",
       "      <td>NaN</td>\n",
       "    </tr>\n",
       "    <tr>\n",
       "      <th>9515</th>\n",
       "      <td>171631</td>\n",
       "      <td>Maria Bamford: Old Baby</td>\n",
       "      <td>(no genres listed)</td>\n",
       "      <td>NaN</td>\n",
       "    </tr>\n",
       "    <tr>\n",
       "      <th>9518</th>\n",
       "      <td>171749</td>\n",
       "      <td>Death Note: Desu nôto (2006–2007)</td>\n",
       "      <td>(no genres listed)</td>\n",
       "      <td>NaN</td>\n",
       "    </tr>\n",
       "    <tr>\n",
       "      <th>9525</th>\n",
       "      <td>171891</td>\n",
       "      <td>Generation Iron 2</td>\n",
       "      <td>(no genres listed)</td>\n",
       "      <td>NaN</td>\n",
       "    </tr>\n",
       "    <tr>\n",
       "      <th>9611</th>\n",
       "      <td>176601</td>\n",
       "      <td>Black Mirror</td>\n",
       "      <td>(no genres listed)</td>\n",
       "      <td>NaN</td>\n",
       "    </tr>\n",
       "  </tbody>\n",
       "</table>\n",
       "</div>"
      ],
      "text/plain": [
       "      movieId                                              title  \\\n",
       "6059    40697                                          Babylon 5   \n",
       "9031   140956                                   Ready Player One   \n",
       "9091   143410                                         Hyena Road   \n",
       "9138   147250  The Adventures of Sherlock Holmes and Doctor W...   \n",
       "9179   149334                                  Nocturnal Animals   \n",
       "9259   156605                                           Paterson   \n",
       "9367   162414                                          Moonlight   \n",
       "9448   167570                                             The OA   \n",
       "9514   171495                                             Cosmos   \n",
       "9515   171631                            Maria Bamford: Old Baby   \n",
       "9518   171749                  Death Note: Desu nôto (2006–2007)   \n",
       "9525   171891                                  Generation Iron 2   \n",
       "9611   176601                                       Black Mirror   \n",
       "\n",
       "                      genres  year  \n",
       "6059                  Sci-Fi   NaN  \n",
       "9031  Action|Sci-Fi|Thriller   NaN  \n",
       "9091      (no genres listed)   NaN  \n",
       "9138      (no genres listed)   NaN  \n",
       "9179          Drama|Thriller   NaN  \n",
       "9259      (no genres listed)   NaN  \n",
       "9367                   Drama   NaN  \n",
       "9448      (no genres listed)   NaN  \n",
       "9514      (no genres listed)   NaN  \n",
       "9515      (no genres listed)   NaN  \n",
       "9518      (no genres listed)   NaN  \n",
       "9525      (no genres listed)   NaN  \n",
       "9611      (no genres listed)   NaN  "
      ]
     },
     "execution_count": 19,
     "metadata": {},
     "output_type": "execute_result"
    }
   ],
   "source": [
    "null_year_movies = movies[movies['year'].isnull()]\n",
    "null_year_movies"
   ]
  },
  {
   "cell_type": "markdown",
   "id": "c062e87d-f8a0-4436-80a6-799834177c09",
   "metadata": {},
   "source": [
    "Let's try to collect the release year for a particular movie and then we will modify and adapt the function to our data"
   ]
  },
  {
   "cell_type": "code",
   "execution_count": 20,
   "id": "0827910a-8500-4e53-bdad-5fe662349828",
   "metadata": {},
   "outputs": [
    {
     "name": "stdout",
     "output_type": "stream",
     "text": [
      "The release year of Interestellar is 2014\n"
     ]
    }
   ],
   "source": [
    "import requests\n",
    "from bs4 import BeautifulSoup\n",
    "import urllib.parse\n",
    "\n",
    "movie = 'Interestellar'\n",
    "\n",
    "#As I have the computer in my native language, the results are in spanish:\n",
    "query = f\"{movie} fecha estreno\"\n",
    "\n",
    "\n",
    "url = \"https://www.google.com/search?q=\" + urllib.parse.quote(query)\n",
    "#https://www.google.com/search?q=Interestellar%20fecha%20de%20estreno\n",
    "\n",
    "#If we do not specify the headers, google does not allow us to request becuase it is prepare to avoid BOTS:\n",
    "headers = {\n",
    "    \"User-Agent\": \"Mozilla/5.0 (Windows NT 10.0; Win64; x64) AppleWebKit/537.36 (KHTML, like Gecko) Chrome/91.0.4472.124 Safari/537.36\"\n",
    "}\n",
    "\n",
    "response = requests.get(url, headers=headers)\n",
    "\n",
    "soup = BeautifulSoup(response.text, \"html.parser\")\n",
    "\n",
    "#We try to find the year:\n",
    "try:\n",
    "    date = soup.find('div', class_=\"EfDVh wDYxhc NFQFxe viOShc LKPcQc\").text  #we have find this route using 'Inspect' in Google\n",
    "    for i in re.findall(r'\\d+',date):\n",
    "                if len(i) == 4: #the lenght of a year suppose to be 4\n",
    "                    date = i\n",
    "                    break\n",
    "except:\n",
    "    date = 0000\n",
    "\n",
    "print('The release year of {} is {}'.format(movie, date))"
   ]
  },
  {
   "cell_type": "markdown",
   "id": "cbd228fa-3878-4621-9f84-58f12abd3dd2",
   "metadata": {},
   "source": [
    "Now we define the function and we modify it to fit the data. We have to know that scraping is not something precise, and it can vary with search engines like Google. That is why we add so many try and except in the code:"
   ]
  },
  {
   "cell_type": "code",
   "execution_count": 21,
   "id": "f6980c5b-1b58-4d99-98ff-ea2db8cb0df3",
   "metadata": {},
   "outputs": [],
   "source": [
    "def obtain_release_year(movie):\n",
    "    query = f\"{movie} pelicula fecha estreno\"\n",
    "    url = \"https://www.google.com/search?q=\" + urllib.parse.quote(query)\n",
    "    headers = {\n",
    "        \"User-Agent\": \"Mozilla/5.0 (Windows NT 10.0; Win64; x64) AppleWebKit/537.36 (KHTML, like Gecko) Chrome/91.0.4472.124 Safari/537.36\"\n",
    "    }\n",
    "    \n",
    "    response = requests.get(url, headers=headers)\n",
    "    \n",
    "    soup = BeautifulSoup(response.text, \"html.parser\")\n",
    "\n",
    "    date = None\n",
    "\n",
    "    #Now we try with some common class that we found with 'Inspect':\n",
    "    \n",
    "    try:\n",
    "        date = soup.find('div', class_=\"EfDVh wDYxhc NFQFxe viOShc LKPcQc\").text\n",
    "        \n",
    "    except:\n",
    "        \n",
    "        try:\n",
    "            date = soup.find('div', class_=\"iAIpCb PZPZlf\").text\n",
    "        except:\n",
    "            pass\n",
    "            \n",
    "    finally:\n",
    "        try:\n",
    "            for i in re.findall(r'\\d+',date):\n",
    "                    if len(i) == 4:\n",
    "                        date = int(i)\n",
    "                        break\n",
    "        except:\n",
    "            print('We did not find the date, here is the url: {}'.format(url))\n",
    "    print('The release year of {} is {}'.format(movie, date))\n",
    "    return date"
   ]
  },
  {
   "cell_type": "markdown",
   "id": "e6542538-c823-4906-8187-dd4e799d50e0",
   "metadata": {},
   "source": [
    "Finally, we obtain the dates for our movies:"
   ]
  },
  {
   "cell_type": "code",
   "execution_count": 22,
   "id": "8faaf4d2-5658-4ac3-8746-a37776ab267d",
   "metadata": {},
   "outputs": [
    {
     "name": "stdout",
     "output_type": "stream",
     "text": [
      "The release year of Babylon 5 is 1994\n",
      "The release year of Ready Player One is 2018\n",
      "The release year of Hyena Road is 2015\n",
      "The release year of The Adventures of Sherlock Holmes and Doctor Watson is 1980\n",
      "The release year of Nocturnal Animals is 2016\n",
      "The release year of Paterson is 2016\n",
      "The release year of Moonlight is 2016\n",
      "The release year of The OA is 2016\n",
      "We did not find the date, here is the url: https://www.google.com/search?q=Cosmos%20pelicula%20fecha%20estreno\n",
      "The release year of Cosmos is None\n",
      "The release year of Maria Bamford: Old Baby is 2017\n",
      "We did not find the date, here is the url: https://www.google.com/search?q=Death%20Note%3A%20Desu%20n%C3%B4to%20%282006%E2%80%932007%29%20pelicula%20fecha%20estreno\n",
      "The release year of Death Note: Desu nôto (2006–2007) is None\n",
      "The release year of Generation Iron 2 is 2017\n",
      "The release year of Black Mirror is 2011\n"
     ]
    }
   ],
   "source": [
    "null_year_movies.loc[:, 'year'] = null_year_movies['title'].apply(lambda x: obtain_release_year(x))"
   ]
  },
  {
   "cell_type": "markdown",
   "id": "4e0e2799-2b18-4954-9756-0a7b9b6ba0ea",
   "metadata": {},
   "source": [
    "We still having a problem with 'Cosmos' and 'Death Note: Desu nôto (2006–2007)'. We are going to suppose it is 'Pretty Guardian Sailor Moon Cosmos' and 'Death Note Movie' and we change the names:"
   ]
  },
  {
   "cell_type": "code",
   "execution_count": 23,
   "id": "66b7f1bb-94c7-4acf-83bd-c44a9a79bb2a",
   "metadata": {},
   "outputs": [],
   "source": [
    "null_year_movies.loc[null_year_movies['title'] == 'Cosmos', 'title'] = 'Pretty Guardian Sailor Moon Cosmos'\n",
    "null_year_movies.loc[null_year_movies['title'] == 'Death Note: Desu nôto (2006–2007)', 'title'] = 'Death Note Movie'"
   ]
  },
  {
   "cell_type": "code",
   "execution_count": 24,
   "id": "ebd7c361-fa7b-464c-92ab-91bf77d311d6",
   "metadata": {},
   "outputs": [
    {
     "name": "stdout",
     "output_type": "stream",
     "text": [
      "The release year of Pretty Guardian Sailor Moon Cosmos is 2023\n",
      "The release year of Death Note Movie is 2006\n"
     ]
    }
   ],
   "source": [
    "null_year_movies.loc[null_year_movies['title'] == 'Pretty Guardian Sailor Moon Cosmos', 'year'] = obtain_release_year('Pretty Guardian Sailor Moon Cosmos')\n",
    "null_year_movies.loc[null_year_movies['title'] == 'Death Note Movie', 'year'] = obtain_release_year('Death Note Movie')"
   ]
  },
  {
   "cell_type": "markdown",
   "id": "fa90859b-a293-44e2-bc10-a0742af43f9f",
   "metadata": {},
   "source": [
    "We just have to modify the values of the dataframe `movies` and verify:"
   ]
  },
  {
   "cell_type": "code",
   "execution_count": 25,
   "id": "03b49911-64e7-464f-96a9-50e8d15c3389",
   "metadata": {},
   "outputs": [
    {
     "name": "stdout",
     "output_type": "stream",
     "text": [
      "<class 'pandas.core.series.Series'>\n",
      "Index: 9719 entries, 0 to 9741\n",
      "Series name: year\n",
      "Non-Null Count  Dtype\n",
      "--------------  -----\n",
      "9719 non-null   int32\n",
      "dtypes: int32(1)\n",
      "memory usage: 113.9 KB\n"
     ]
    }
   ],
   "source": [
    "movies.loc[movies['movieId'].isin(list(null_year_movies.movieId))] = null_year_movies\n",
    "movies.year = movies.year.astype(int)\n",
    "movies.year.info()"
   ]
  },
  {
   "cell_type": "markdown",
   "id": "1b819373-1d2f-496c-805e-e0eb90ca4de9",
   "metadata": {},
   "source": [
    "We can remove the year in the `title` column and clean the string:"
   ]
  },
  {
   "cell_type": "code",
   "execution_count": 26,
   "id": "468ecfa5-74eb-41c4-93ee-22c531b8b907",
   "metadata": {},
   "outputs": [],
   "source": [
    "movies['title'] = movies['title'].apply(lambda x: re.sub(r'\\(\\d+\\)','',x))\n",
    "movies['title'] = movies['title'].str.strip() "
   ]
  },
  {
   "cell_type": "markdown",
   "id": "884b071b-9f30-4cc6-bc33-310fa7f20782",
   "metadata": {},
   "source": [
    "Now we have the problem that maybe different movies in \"movies_df\" have now the same title because we eliminated the year."
   ]
  },
  {
   "cell_type": "code",
   "execution_count": 27,
   "id": "09d335ad-3ad7-48ad-88a5-ab55a50c0ea1",
   "metadata": {},
   "outputs": [
    {
     "name": "stdout",
     "output_type": "stream",
     "text": [
      "There are 9719 movies in \"movies\" but only 9446 are unique\n",
      "By contrast, there are 9719 movies in \"movies\" and 9719 are unique\n",
      "But we have 0 movies with same title and year\n"
     ]
    }
   ],
   "source": [
    "print('There are {} movies in \"movies\" but only {} are unique'.format(len(movies['title']),movies['title'].nunique()))\n",
    "print('By contrast, there are {} movies in \"movies\" and {} are unique'.format(len(movies_df['title']),movies_df['title'].nunique()))\n",
    "print('But we have {} movies with same title and year'.format(len(movies[movies.duplicated(subset=['title','year'], keep=False)])))"
   ]
  },
  {
   "cell_type": "markdown",
   "id": "fa9a4805-edb1-4412-96ee-b7b2f7bfcac8",
   "metadata": {},
   "source": [
    "As they are index by `movieId`,we have no problem."
   ]
  },
  {
   "cell_type": "code",
   "execution_count": 28,
   "id": "2df134de-d972-4390-956e-8f3a87ed929f",
   "metadata": {},
   "outputs": [],
   "source": [
    "#And finally put the new features into 'movies_df':\n",
    "movies_df['title'] = movies['title']\n",
    "movies_df['year'] = movies['year']"
   ]
  },
  {
   "cell_type": "markdown",
   "id": "c8c22a9b-961e-4063-b6ba-7bda8232c561",
   "metadata": {},
   "source": [
    "### **Genres**"
   ]
  },
  {
   "cell_type": "markdown",
   "id": "c3bc76b3-de3f-4567-aaac-a9ee632fc716",
   "metadata": {},
   "source": [
    "In order to future studies, we are going to **store the genres** of each movie **as a list and** also **as a string of lowercase words**:"
   ]
  },
  {
   "cell_type": "code",
   "execution_count": 29,
   "id": "bdd69c12-4dba-4c9a-b9ce-c96dd96c050d",
   "metadata": {},
   "outputs": [
    {
     "name": "stdout",
     "output_type": "stream",
     "text": [
      "      movieId                                             title  \\\n",
      "8517   114335                                        La cravate   \n",
      "8684   122888                                           Ben-hur   \n",
      "8687   122896  Pirates of the Caribbean: Dead Men Tell No Tales   \n",
      "8782   129250                                        Superfast!   \n",
      "8836   132084                                      Let It Be Me   \n",
      "\n",
      "                  genres  year  \n",
      "8517  (no genres listed)  1957  \n",
      "8684  (no genres listed)  2016  \n",
      "8687  (no genres listed)  2017  \n",
      "8782  (no genres listed)  2015  \n",
      "8836  (no genres listed)  1995  \n",
      "There is 34 elements without genres information\n"
     ]
    }
   ],
   "source": [
    "print(movies_df.loc[movies_df['genres'] == '(no genres listed)'].head())\n",
    "print('There is {} elements without genres information'.format(len(movies_df.loc[movies['genres'] == '(no genres listed)'])))"
   ]
  },
  {
   "cell_type": "markdown",
   "id": "593279ff-a08b-4f17-97ab-6128c92b4aa9",
   "metadata": {},
   "source": [
    "We could take the information using `bs4` and `requests` again, but we are going to leave it like this. Let's check the null values:"
   ]
  },
  {
   "cell_type": "code",
   "execution_count": 30,
   "id": "d099f946-a04c-4b20-80c9-afd665a6042a",
   "metadata": {},
   "outputs": [
    {
     "data": {
      "text/html": [
       "<div>\n",
       "<style scoped>\n",
       "    .dataframe tbody tr th:only-of-type {\n",
       "        vertical-align: middle;\n",
       "    }\n",
       "\n",
       "    .dataframe tbody tr th {\n",
       "        vertical-align: top;\n",
       "    }\n",
       "\n",
       "    .dataframe thead th {\n",
       "        text-align: right;\n",
       "    }\n",
       "</style>\n",
       "<table border=\"1\" class=\"dataframe\">\n",
       "  <thead>\n",
       "    <tr style=\"text-align: right;\">\n",
       "      <th></th>\n",
       "      <th>movieId</th>\n",
       "      <th>title</th>\n",
       "      <th>genres</th>\n",
       "      <th>year</th>\n",
       "    </tr>\n",
       "  </thead>\n",
       "  <tbody>\n",
       "  </tbody>\n",
       "</table>\n",
       "</div>"
      ],
      "text/plain": [
       "Empty DataFrame\n",
       "Columns: [movieId, title, genres, year]\n",
       "Index: []"
      ]
     },
     "execution_count": 30,
     "metadata": {},
     "output_type": "execute_result"
    }
   ],
   "source": [
    "movies_df.loc[movies_df['genres'].isnull()]"
   ]
  },
  {
   "cell_type": "markdown",
   "id": "27576a53-666d-4967-be03-53da79c6b8e9",
   "metadata": {},
   "source": [
    "There are not null values. Let's change the format:"
   ]
  },
  {
   "cell_type": "code",
   "execution_count": 31,
   "id": "d163d972-ddc5-44c8-97c6-0d7e7eb1aa3b",
   "metadata": {},
   "outputs": [],
   "source": [
    "movies_df['genres'] = movies_df['genres'].apply(lambda x: x.split('|'))\n",
    "movies_df['genres_str'] = movies_df['genres'].apply(lambda x: ' '.join(x))"
   ]
  },
  {
   "cell_type": "markdown",
   "id": "0d0649e4-1a75-48c2-b4cd-3e23af051e87",
   "metadata": {},
   "source": [
    "### **TimeStamp**"
   ]
  },
  {
   "cell_type": "markdown",
   "id": "547ce548-04b9-419a-ad54-11417a8d781f",
   "metadata": {},
   "source": [
    "We are not really working with the timestamp, so we are going to drop it:"
   ]
  },
  {
   "cell_type": "code",
   "execution_count": 32,
   "id": "b25ac86b-2041-44c9-947b-d8e7764e99fb",
   "metadata": {},
   "outputs": [],
   "source": [
    "ratings_df.drop('timestamp', axis = 1, inplace= True)"
   ]
  },
  {
   "cell_type": "markdown",
   "id": "0b78daef-0a64-476d-bb43-de85f4a2317f",
   "metadata": {},
   "source": [
    " "
   ]
  },
  {
   "cell_type": "markdown",
   "id": "7b58274a-7947-488d-a91b-47fceb19dd0a",
   "metadata": {},
   "source": [
    "## **3. Exploratory analysis**"
   ]
  },
  {
   "cell_type": "markdown",
   "id": "6b9c8ef3-f01a-4503-9e5a-ef0e4edfadf6",
   "metadata": {},
   "source": [
    "Until here, our data frames look like:"
   ]
  },
  {
   "cell_type": "code",
   "execution_count": 33,
   "id": "be584da9-1199-4a89-a911-93fb0e928ec0",
   "metadata": {},
   "outputs": [
    {
     "data": {
      "text/html": [
       "<div>\n",
       "<style scoped>\n",
       "    .dataframe tbody tr th:only-of-type {\n",
       "        vertical-align: middle;\n",
       "    }\n",
       "\n",
       "    .dataframe tbody tr th {\n",
       "        vertical-align: top;\n",
       "    }\n",
       "\n",
       "    .dataframe thead th {\n",
       "        text-align: right;\n",
       "    }\n",
       "</style>\n",
       "<table border=\"1\" class=\"dataframe\">\n",
       "  <thead>\n",
       "    <tr style=\"text-align: right;\">\n",
       "      <th></th>\n",
       "      <th>movieId</th>\n",
       "      <th>title</th>\n",
       "      <th>genres</th>\n",
       "      <th>year</th>\n",
       "      <th>genres_str</th>\n",
       "    </tr>\n",
       "  </thead>\n",
       "  <tbody>\n",
       "    <tr>\n",
       "      <th>0</th>\n",
       "      <td>1</td>\n",
       "      <td>Toy Story</td>\n",
       "      <td>[Adventure, Animation, Children, Comedy, Fantasy]</td>\n",
       "      <td>1995</td>\n",
       "      <td>Adventure Animation Children Comedy Fantasy</td>\n",
       "    </tr>\n",
       "    <tr>\n",
       "      <th>1</th>\n",
       "      <td>2</td>\n",
       "      <td>Jumanji</td>\n",
       "      <td>[Adventure, Children, Fantasy]</td>\n",
       "      <td>1995</td>\n",
       "      <td>Adventure Children Fantasy</td>\n",
       "    </tr>\n",
       "    <tr>\n",
       "      <th>2</th>\n",
       "      <td>3</td>\n",
       "      <td>Grumpier Old Men</td>\n",
       "      <td>[Comedy, Romance]</td>\n",
       "      <td>1995</td>\n",
       "      <td>Comedy Romance</td>\n",
       "    </tr>\n",
       "    <tr>\n",
       "      <th>3</th>\n",
       "      <td>4</td>\n",
       "      <td>Waiting to Exhale</td>\n",
       "      <td>[Comedy, Drama, Romance]</td>\n",
       "      <td>1995</td>\n",
       "      <td>Comedy Drama Romance</td>\n",
       "    </tr>\n",
       "    <tr>\n",
       "      <th>4</th>\n",
       "      <td>5</td>\n",
       "      <td>Father of the Bride Part II</td>\n",
       "      <td>[Comedy]</td>\n",
       "      <td>1995</td>\n",
       "      <td>Comedy</td>\n",
       "    </tr>\n",
       "  </tbody>\n",
       "</table>\n",
       "</div>"
      ],
      "text/plain": [
       "   movieId                        title  \\\n",
       "0        1                    Toy Story   \n",
       "1        2                      Jumanji   \n",
       "2        3             Grumpier Old Men   \n",
       "3        4            Waiting to Exhale   \n",
       "4        5  Father of the Bride Part II   \n",
       "\n",
       "                                              genres  year  \\\n",
       "0  [Adventure, Animation, Children, Comedy, Fantasy]  1995   \n",
       "1                     [Adventure, Children, Fantasy]  1995   \n",
       "2                                  [Comedy, Romance]  1995   \n",
       "3                           [Comedy, Drama, Romance]  1995   \n",
       "4                                           [Comedy]  1995   \n",
       "\n",
       "                                    genres_str  \n",
       "0  Adventure Animation Children Comedy Fantasy  \n",
       "1                   Adventure Children Fantasy  \n",
       "2                               Comedy Romance  \n",
       "3                         Comedy Drama Romance  \n",
       "4                                       Comedy  "
      ]
     },
     "execution_count": 33,
     "metadata": {},
     "output_type": "execute_result"
    }
   ],
   "source": [
    "movies_df.head()"
   ]
  },
  {
   "cell_type": "code",
   "execution_count": 34,
   "id": "1295bdff-0b56-4ff8-9ecf-59ae8b9cbf98",
   "metadata": {},
   "outputs": [
    {
     "data": {
      "text/html": [
       "<div>\n",
       "<style scoped>\n",
       "    .dataframe tbody tr th:only-of-type {\n",
       "        vertical-align: middle;\n",
       "    }\n",
       "\n",
       "    .dataframe tbody tr th {\n",
       "        vertical-align: top;\n",
       "    }\n",
       "\n",
       "    .dataframe thead th {\n",
       "        text-align: right;\n",
       "    }\n",
       "</style>\n",
       "<table border=\"1\" class=\"dataframe\">\n",
       "  <thead>\n",
       "    <tr style=\"text-align: right;\">\n",
       "      <th></th>\n",
       "      <th>userId</th>\n",
       "      <th>movieId</th>\n",
       "      <th>rating</th>\n",
       "    </tr>\n",
       "  </thead>\n",
       "  <tbody>\n",
       "    <tr>\n",
       "      <th>0</th>\n",
       "      <td>1</td>\n",
       "      <td>1</td>\n",
       "      <td>4.0</td>\n",
       "    </tr>\n",
       "    <tr>\n",
       "      <th>1</th>\n",
       "      <td>1</td>\n",
       "      <td>3</td>\n",
       "      <td>4.0</td>\n",
       "    </tr>\n",
       "    <tr>\n",
       "      <th>2</th>\n",
       "      <td>1</td>\n",
       "      <td>6</td>\n",
       "      <td>4.0</td>\n",
       "    </tr>\n",
       "    <tr>\n",
       "      <th>3</th>\n",
       "      <td>1</td>\n",
       "      <td>47</td>\n",
       "      <td>5.0</td>\n",
       "    </tr>\n",
       "    <tr>\n",
       "      <th>4</th>\n",
       "      <td>1</td>\n",
       "      <td>50</td>\n",
       "      <td>5.0</td>\n",
       "    </tr>\n",
       "  </tbody>\n",
       "</table>\n",
       "</div>"
      ],
      "text/plain": [
       "   userId  movieId  rating\n",
       "0       1        1     4.0\n",
       "1       1        3     4.0\n",
       "2       1        6     4.0\n",
       "3       1       47     5.0\n",
       "4       1       50     5.0"
      ]
     },
     "execution_count": 34,
     "metadata": {},
     "output_type": "execute_result"
    }
   ],
   "source": [
    "ratings_df.head()"
   ]
  },
  {
   "cell_type": "markdown",
   "id": "612eb8c3-1b3a-40ff-ada5-42bb7eaaf622",
   "metadata": {},
   "source": [
    "### **Ratings analysis and 'popularity'**"
   ]
  },
  {
   "cell_type": "markdown",
   "id": "276cf840-26f5-482a-b748-e66a975f8495",
   "metadata": {},
   "source": [
    "The ratings can be view as a sample that come from a **discrete** population which takes values between 0.5 and 5:"
   ]
  },
  {
   "cell_type": "code",
   "execution_count": 35,
   "id": "3eb1c62b-1093-4b10-817b-6eaefd4a67dd",
   "metadata": {},
   "outputs": [
    {
     "name": "stdout",
     "output_type": "stream",
     "text": [
      "count    100830.000000\n",
      "mean          3.501567\n",
      "std           1.042548\n",
      "min           0.500000\n",
      "25%           3.000000\n",
      "50%           3.500000\n",
      "75%           4.000000\n",
      "max           5.000000\n",
      "Name: rating, dtype: float64\n"
     ]
    },
    {
     "data": {
      "image/png": "[encoded data removed]",
      "text/plain": [
       "<Figure size 640x480 with 1 Axes>"
      ]
     },
     "metadata": {},
     "output_type": "display_data"
    }
   ],
   "source": [
    "print(ratings_df.rating.describe())\n",
    "sns.countplot(x=\"rating\", data=ratings_df)\n",
    "plt.title(\"Distribution of movie ratings\", fontsize=14)\n",
    "plt.show()"
   ]
  },
  {
   "cell_type": "markdown",
   "id": "b8660d8b-2c98-4253-b37f-af621b9cf9a1",
   "metadata": {},
   "source": [
    "We can observe most of the rating are positive (if we mean 'positive' $\\geq$  2.75) and integer."
   ]
  },
  {
   "cell_type": "markdown",
   "id": "242eb33d-72e0-4075-95a4-9598d466a736",
   "metadata": {},
   "source": [
    "#### Which are the **most voted movies**?"
   ]
  },
  {
   "cell_type": "markdown",
   "id": "ce8a4021-e906-49e3-9807-ef4d8f1fc22d",
   "metadata": {},
   "source": [
    "First of all, we are using the map between movieId and title:"
   ]
  },
  {
   "cell_type": "code",
   "execution_count": 36,
   "id": "b7521c27-39ba-4122-bda2-08546c9f58ca",
   "metadata": {},
   "outputs": [],
   "source": [
    "movie_names = movies_df.set_index('movieId')['title'].to_dict()"
   ]
  },
  {
   "cell_type": "markdown",
   "id": "c1cfdb73-f7d1-4e54-a94b-99d9f0d70164",
   "metadata": {},
   "source": [
    "Now we can define `movies_rating_count`:"
   ]
  },
  {
   "cell_type": "code",
   "execution_count": 37,
   "id": "92d38495-5246-477d-8c09-c21616b2fd78",
   "metadata": {},
   "outputs": [
    {
     "data": {
      "text/html": [
       "<div>\n",
       "<style scoped>\n",
       "    .dataframe tbody tr th:only-of-type {\n",
       "        vertical-align: middle;\n",
       "    }\n",
       "\n",
       "    .dataframe tbody tr th {\n",
       "        vertical-align: top;\n",
       "    }\n",
       "\n",
       "    .dataframe thead th {\n",
       "        text-align: right;\n",
       "    }\n",
       "</style>\n",
       "<table border=\"1\" class=\"dataframe\">\n",
       "  <thead>\n",
       "    <tr style=\"text-align: right;\">\n",
       "      <th></th>\n",
       "      <th>rating_count</th>\n",
       "      <th>title</th>\n",
       "    </tr>\n",
       "    <tr>\n",
       "      <th>movieId</th>\n",
       "      <th></th>\n",
       "      <th></th>\n",
       "    </tr>\n",
       "  </thead>\n",
       "  <tbody>\n",
       "    <tr>\n",
       "      <th>1</th>\n",
       "      <td>215</td>\n",
       "      <td>Toy Story</td>\n",
       "    </tr>\n",
       "    <tr>\n",
       "      <th>2</th>\n",
       "      <td>110</td>\n",
       "      <td>Jumanji</td>\n",
       "    </tr>\n",
       "    <tr>\n",
       "      <th>3</th>\n",
       "      <td>52</td>\n",
       "      <td>Grumpier Old Men</td>\n",
       "    </tr>\n",
       "    <tr>\n",
       "      <th>4</th>\n",
       "      <td>7</td>\n",
       "      <td>Waiting to Exhale</td>\n",
       "    </tr>\n",
       "    <tr>\n",
       "      <th>5</th>\n",
       "      <td>49</td>\n",
       "      <td>Father of the Bride Part II</td>\n",
       "    </tr>\n",
       "    <tr>\n",
       "      <th>...</th>\n",
       "      <td>...</td>\n",
       "      <td>...</td>\n",
       "    </tr>\n",
       "    <tr>\n",
       "      <th>193581</th>\n",
       "      <td>1</td>\n",
       "      <td>Black Butler: Book of the Atlantic</td>\n",
       "    </tr>\n",
       "    <tr>\n",
       "      <th>193583</th>\n",
       "      <td>1</td>\n",
       "      <td>No Game No Life: Zero</td>\n",
       "    </tr>\n",
       "    <tr>\n",
       "      <th>193585</th>\n",
       "      <td>1</td>\n",
       "      <td>Flint</td>\n",
       "    </tr>\n",
       "    <tr>\n",
       "      <th>193587</th>\n",
       "      <td>1</td>\n",
       "      <td>Bungo Stray Dogs: Dead Apple</td>\n",
       "    </tr>\n",
       "    <tr>\n",
       "      <th>193609</th>\n",
       "      <td>1</td>\n",
       "      <td>Andrew Dice Clay: Dice Rules</td>\n",
       "    </tr>\n",
       "  </tbody>\n",
       "</table>\n",
       "<p>9719 rows × 2 columns</p>\n",
       "</div>"
      ],
      "text/plain": [
       "         rating_count                               title\n",
       "movieId                                                  \n",
       "1                 215                           Toy Story\n",
       "2                 110                             Jumanji\n",
       "3                  52                    Grumpier Old Men\n",
       "4                   7                   Waiting to Exhale\n",
       "5                  49         Father of the Bride Part II\n",
       "...               ...                                 ...\n",
       "193581              1  Black Butler: Book of the Atlantic\n",
       "193583              1               No Game No Life: Zero\n",
       "193585              1                               Flint\n",
       "193587              1        Bungo Stray Dogs: Dead Apple\n",
       "193609              1        Andrew Dice Clay: Dice Rules\n",
       "\n",
       "[9719 rows x 2 columns]"
      ]
     },
     "execution_count": 37,
     "metadata": {},
     "output_type": "execute_result"
    }
   ],
   "source": [
    "movies_rating_count = pd.DataFrame(ratings_df.groupby('movieId')['rating'].count()) #we create the 'movie_rating' indexed by 'movieId'\n",
    "movies_rating_count.index.name = 'movieId' #we change the name\n",
    "movies_rating_count = movies_rating_count.rename(columns={'rating': 'rating_count'})\n",
    "movies_rating_count['title'] = movies_rating_count.index.map(movie_names) #we map the names using the dict 'movie_names'\n",
    "movies_rating_count"
   ]
  },
  {
   "cell_type": "markdown",
   "id": "69945027-a569-4b15-ad6c-12af18cce0cc",
   "metadata": {},
   "source": [
    "Let's sort by `rating_count`:"
   ]
  },
  {
   "cell_type": "code",
   "execution_count": 38,
   "id": "f3b728d9-a3b5-49cd-96b4-b4cd71566cd3",
   "metadata": {},
   "outputs": [
    {
     "name": "stdout",
     "output_type": "stream",
     "text": [
      "The top 10 most voted movies are: \n"
     ]
    },
    {
     "data": {
      "text/html": [
       "<div>\n",
       "<style scoped>\n",
       "    .dataframe tbody tr th:only-of-type {\n",
       "        vertical-align: middle;\n",
       "    }\n",
       "\n",
       "    .dataframe tbody tr th {\n",
       "        vertical-align: top;\n",
       "    }\n",
       "\n",
       "    .dataframe thead th {\n",
       "        text-align: right;\n",
       "    }\n",
       "</style>\n",
       "<table border=\"1\" class=\"dataframe\">\n",
       "  <thead>\n",
       "    <tr style=\"text-align: right;\">\n",
       "      <th></th>\n",
       "      <th>rating_count</th>\n",
       "      <th>title</th>\n",
       "    </tr>\n",
       "    <tr>\n",
       "      <th>movieId</th>\n",
       "      <th></th>\n",
       "      <th></th>\n",
       "    </tr>\n",
       "  </thead>\n",
       "  <tbody>\n",
       "    <tr>\n",
       "      <th>356</th>\n",
       "      <td>329</td>\n",
       "      <td>Forrest Gump</td>\n",
       "    </tr>\n",
       "    <tr>\n",
       "      <th>318</th>\n",
       "      <td>317</td>\n",
       "      <td>Shawshank Redemption, The</td>\n",
       "    </tr>\n",
       "    <tr>\n",
       "      <th>296</th>\n",
       "      <td>307</td>\n",
       "      <td>Pulp Fiction</td>\n",
       "    </tr>\n",
       "    <tr>\n",
       "      <th>593</th>\n",
       "      <td>279</td>\n",
       "      <td>Silence of the Lambs, The</td>\n",
       "    </tr>\n",
       "    <tr>\n",
       "      <th>2571</th>\n",
       "      <td>278</td>\n",
       "      <td>Matrix, The</td>\n",
       "    </tr>\n",
       "    <tr>\n",
       "      <th>260</th>\n",
       "      <td>251</td>\n",
       "      <td>Star Wars: Episode IV - A New Hope</td>\n",
       "    </tr>\n",
       "    <tr>\n",
       "      <th>480</th>\n",
       "      <td>238</td>\n",
       "      <td>Jurassic Park</td>\n",
       "    </tr>\n",
       "    <tr>\n",
       "      <th>110</th>\n",
       "      <td>237</td>\n",
       "      <td>Braveheart</td>\n",
       "    </tr>\n",
       "    <tr>\n",
       "      <th>589</th>\n",
       "      <td>224</td>\n",
       "      <td>Terminator 2: Judgment Day</td>\n",
       "    </tr>\n",
       "    <tr>\n",
       "      <th>527</th>\n",
       "      <td>220</td>\n",
       "      <td>Schindler's List</td>\n",
       "    </tr>\n",
       "  </tbody>\n",
       "</table>\n",
       "</div>"
      ],
      "text/plain": [
       "         rating_count                               title\n",
       "movieId                                                  \n",
       "356               329                        Forrest Gump\n",
       "318               317           Shawshank Redemption, The\n",
       "296               307                        Pulp Fiction\n",
       "593               279           Silence of the Lambs, The\n",
       "2571              278                         Matrix, The\n",
       "260               251  Star Wars: Episode IV - A New Hope\n",
       "480               238                       Jurassic Park\n",
       "110               237                          Braveheart\n",
       "589               224          Terminator 2: Judgment Day\n",
       "527               220                    Schindler's List"
      ]
     },
     "execution_count": 38,
     "metadata": {},
     "output_type": "execute_result"
    }
   ],
   "source": [
    "movies_rating_count = movies_rating_count.sort_values(by = 'rating_count',ascending = False) #we sort\n",
    "print('The top 10 most voted movies are: ')\n",
    "movies_rating_count.head(10)"
   ]
  },
  {
   "cell_type": "markdown",
   "id": "60eaa208-c3f5-4f8e-bc5e-1a496121e0aa",
   "metadata": {},
   "source": [
    "The output seems to be correct because the movies that appear are very popular. We can also see all films are before the 2000's, so probably the ratings were made quite some time ago."
   ]
  },
  {
   "cell_type": "markdown",
   "id": "6d45b4e2-3bd6-4e5a-acce-3ba37dce0aa4",
   "metadata": {},
   "source": [
    "#### Which are the **best voted movies**?"
   ]
  },
  {
   "cell_type": "markdown",
   "id": "7b39f15e-738b-47a7-9cc1-2833260ca0f6",
   "metadata": {},
   "source": [
    "Let's search for the best voted movies looking by the mean of the votes:"
   ]
  },
  {
   "cell_type": "code",
   "execution_count": 39,
   "id": "6401fbab-8883-4123-9aa8-76890354c08c",
   "metadata": {},
   "outputs": [
    {
     "name": "stdout",
     "output_type": "stream",
     "text": [
      "\"Supposedly\", the top 10 best movies are: \n"
     ]
    },
    {
     "data": {
      "text/html": [
       "<div>\n",
       "<style scoped>\n",
       "    .dataframe tbody tr th:only-of-type {\n",
       "        vertical-align: middle;\n",
       "    }\n",
       "\n",
       "    .dataframe tbody tr th {\n",
       "        vertical-align: top;\n",
       "    }\n",
       "\n",
       "    .dataframe thead th {\n",
       "        text-align: right;\n",
       "    }\n",
       "</style>\n",
       "<table border=\"1\" class=\"dataframe\">\n",
       "  <thead>\n",
       "    <tr style=\"text-align: right;\">\n",
       "      <th></th>\n",
       "      <th>rating_mean</th>\n",
       "      <th>title</th>\n",
       "    </tr>\n",
       "    <tr>\n",
       "      <th>movieId</th>\n",
       "      <th></th>\n",
       "      <th></th>\n",
       "    </tr>\n",
       "  </thead>\n",
       "  <tbody>\n",
       "    <tr>\n",
       "      <th>126088</th>\n",
       "      <td>5.0</td>\n",
       "      <td>A Flintstones Christmas Carol</td>\n",
       "    </tr>\n",
       "    <tr>\n",
       "      <th>145994</th>\n",
       "      <td>5.0</td>\n",
       "      <td>Formula of Love</td>\n",
       "    </tr>\n",
       "    <tr>\n",
       "      <th>6192</th>\n",
       "      <td>5.0</td>\n",
       "      <td>Open Hearts (Elsker dig for evigt)</td>\n",
       "    </tr>\n",
       "    <tr>\n",
       "      <th>876</th>\n",
       "      <td>5.0</td>\n",
       "      <td>Supercop 2 (Project S) (Chao ji ji hua)</td>\n",
       "    </tr>\n",
       "    <tr>\n",
       "      <th>40491</th>\n",
       "      <td>5.0</td>\n",
       "      <td>Match Factory Girl, The (Tulitikkutehtaan tyttö)</td>\n",
       "    </tr>\n",
       "    <tr>\n",
       "      <th>143031</th>\n",
       "      <td>5.0</td>\n",
       "      <td>Jump In!</td>\n",
       "    </tr>\n",
       "    <tr>\n",
       "      <th>143511</th>\n",
       "      <td>5.0</td>\n",
       "      <td>Human</td>\n",
       "    </tr>\n",
       "    <tr>\n",
       "      <th>6086</th>\n",
       "      <td>5.0</td>\n",
       "      <td>I, the Jury</td>\n",
       "    </tr>\n",
       "    <tr>\n",
       "      <th>143559</th>\n",
       "      <td>5.0</td>\n",
       "      <td>L.A. Slasher</td>\n",
       "    </tr>\n",
       "    <tr>\n",
       "      <th>6021</th>\n",
       "      <td>5.0</td>\n",
       "      <td>American Friend, The (Amerikanische Freund, Der)</td>\n",
       "    </tr>\n",
       "  </tbody>\n",
       "</table>\n",
       "</div>"
      ],
      "text/plain": [
       "         rating_mean                                             title\n",
       "movieId                                                               \n",
       "126088           5.0                     A Flintstones Christmas Carol\n",
       "145994           5.0                                   Formula of Love\n",
       "6192             5.0                Open Hearts (Elsker dig for evigt)\n",
       "876              5.0           Supercop 2 (Project S) (Chao ji ji hua)\n",
       "40491            5.0  Match Factory Girl, The (Tulitikkutehtaan tyttö)\n",
       "143031           5.0                                          Jump In!\n",
       "143511           5.0                                             Human\n",
       "6086             5.0                                       I, the Jury\n",
       "143559           5.0                                      L.A. Slasher\n",
       "6021             5.0  American Friend, The (Amerikanische Freund, Der)"
      ]
     },
     "execution_count": 39,
     "metadata": {},
     "output_type": "execute_result"
    }
   ],
   "source": [
    "movies_rating_mean = pd.DataFrame(ratings_df.groupby('movieId')['rating'].mean())\n",
    "movies_rating_mean.index.name = 'movieId' #we change the name\n",
    "movies_rating_mean = movies_rating_mean.rename(columns={'rating': 'rating_mean'})\n",
    "\n",
    "#Now we do the same as we did with 'movie_rating_count':\n",
    "movies_rating_mean['title'] = movies_rating_mean.index.map(movie_names) #we map the names using the dict 'movie_names'\n",
    "movies_rating_mean = movies_rating_mean.sort_values(by = 'rating_mean', ascending = False) #we sort\n",
    "print('\"Supposedly\", the top 10 best movies are: ')\n",
    "movies_rating_mean.head(10)"
   ]
  },
  {
   "cell_type": "markdown",
   "id": "bb1d9b2c-310b-4431-bfe1-87335b43fe5d",
   "metadata": {},
   "source": [
    "However, if we look at the votes per movie:"
   ]
  },
  {
   "cell_type": "code",
   "execution_count": 40,
   "id": "2da491db-dc96-4b0e-879b-7522eb43a5c9",
   "metadata": {},
   "outputs": [
    {
     "data": {
      "text/html": [
       "<div>\n",
       "<style scoped>\n",
       "    .dataframe tbody tr th:only-of-type {\n",
       "        vertical-align: middle;\n",
       "    }\n",
       "\n",
       "    .dataframe tbody tr th {\n",
       "        vertical-align: top;\n",
       "    }\n",
       "\n",
       "    .dataframe thead th {\n",
       "        text-align: right;\n",
       "    }\n",
       "</style>\n",
       "<table border=\"1\" class=\"dataframe\">\n",
       "  <thead>\n",
       "    <tr style=\"text-align: right;\">\n",
       "      <th></th>\n",
       "      <th>rating_count</th>\n",
       "      <th>title</th>\n",
       "    </tr>\n",
       "    <tr>\n",
       "      <th>movieId</th>\n",
       "      <th></th>\n",
       "      <th></th>\n",
       "    </tr>\n",
       "  </thead>\n",
       "  <tbody>\n",
       "    <tr>\n",
       "      <th>876</th>\n",
       "      <td>1</td>\n",
       "      <td>Supercop 2 (Project S) (Chao ji ji hua)</td>\n",
       "    </tr>\n",
       "    <tr>\n",
       "      <th>126088</th>\n",
       "      <td>1</td>\n",
       "      <td>A Flintstones Christmas Carol</td>\n",
       "    </tr>\n",
       "    <tr>\n",
       "      <th>143511</th>\n",
       "      <td>1</td>\n",
       "      <td>Human</td>\n",
       "    </tr>\n",
       "    <tr>\n",
       "      <th>143031</th>\n",
       "      <td>1</td>\n",
       "      <td>Jump In!</td>\n",
       "    </tr>\n",
       "    <tr>\n",
       "      <th>143559</th>\n",
       "      <td>1</td>\n",
       "      <td>L.A. Slasher</td>\n",
       "    </tr>\n",
       "    <tr>\n",
       "      <th>145994</th>\n",
       "      <td>1</td>\n",
       "      <td>Formula of Love</td>\n",
       "    </tr>\n",
       "    <tr>\n",
       "      <th>6192</th>\n",
       "      <td>1</td>\n",
       "      <td>Open Hearts (Elsker dig for evigt)</td>\n",
       "    </tr>\n",
       "    <tr>\n",
       "      <th>6086</th>\n",
       "      <td>1</td>\n",
       "      <td>I, the Jury</td>\n",
       "    </tr>\n",
       "    <tr>\n",
       "      <th>6021</th>\n",
       "      <td>1</td>\n",
       "      <td>American Friend, The (Amerikanische Freund, Der)</td>\n",
       "    </tr>\n",
       "    <tr>\n",
       "      <th>40491</th>\n",
       "      <td>1</td>\n",
       "      <td>Match Factory Girl, The (Tulitikkutehtaan tyttö)</td>\n",
       "    </tr>\n",
       "  </tbody>\n",
       "</table>\n",
       "</div>"
      ],
      "text/plain": [
       "         rating_count                                             title\n",
       "movieId                                                                \n",
       "876                 1           Supercop 2 (Project S) (Chao ji ji hua)\n",
       "126088              1                     A Flintstones Christmas Carol\n",
       "143511              1                                             Human\n",
       "143031              1                                          Jump In!\n",
       "143559              1                                      L.A. Slasher\n",
       "145994              1                                   Formula of Love\n",
       "6192                1                Open Hearts (Elsker dig for evigt)\n",
       "6086                1                                       I, the Jury\n",
       "6021                1  American Friend, The (Amerikanische Freund, Der)\n",
       "40491               1  Match Factory Girl, The (Tulitikkutehtaan tyttö)"
      ]
     },
     "execution_count": 40,
     "metadata": {},
     "output_type": "execute_result"
    }
   ],
   "source": [
    "movies_rating_count[movies_rating_count.index.isin(list(movies_rating_mean.head(10).index))]"
   ]
  },
  {
   "cell_type": "markdown",
   "id": "bfb4a624-3ed8-446c-938e-6e44a2801527",
   "metadata": {},
   "source": [
    "So all these movies have a 5 star puntuation but they only have a vote (something similiar happend with the 'worst' films). \n",
    "To fix this we need to use another method to calculate the sample mean that consider the size of the sample:"
   ]
  },
  {
   "cell_type": "markdown",
   "id": "3553ff8b-af48-421f-abd7-3824ff81388b",
   "metadata": {},
   "source": [
    "**Bayesian average**\n",
    "\n",
    "Calculating the Bayesian average uses the mean of the ranking of all movies ranking mean REVISAR: \n",
    "$$m = \\frac{1}{M} \\sum_{i=1}^M y_i$$\n",
    "and a constant $C$, chosen based on the typical data set size required for a robust estimate of the sample mean. The value is larger when the expected variation between data sets (within the larger population) is small. It is smaller when the data sets are expected to vary substantially from one another. The bayesian average is calculate as:\n",
    "\n",
    "$$\n",
    "\\overline{x} = \\frac{C \\cdot m + \\sum_{i=1}^N x_i}{C + n}\n",
    "$$\n",
    "\n",
    "where $\\{x_i\\}_i$ is the sample and $n$ is the size of the sample.\n",
    "\n",
    "In our example, let's take C as follows:"
   ]
  },
  {
   "cell_type": "code",
   "execution_count": 41,
   "id": "23d18237-be09-4288-b205-f42915d73472",
   "metadata": {},
   "outputs": [
    {
     "name": "stdout",
     "output_type": "stream",
     "text": [
      "The value for C is 10.374524127996708 and for m is 3.2623775104703987\n"
     ]
    }
   ],
   "source": [
    "C = movies_rating_count['rating_count'].mean() #Remember that the value for C could be changed, this is just and approx.\n",
    "m = movies_rating_mean['rating_mean'].values.mean()\n",
    "print('The value for C is {} and for m is {}'.format(C,m))"
   ]
  },
  {
   "cell_type": "code",
   "execution_count": 42,
   "id": "162f90cd-1ebf-409a-84f2-b7f3ea32b69a",
   "metadata": {},
   "outputs": [],
   "source": [
    "def bayesian_mean (movie_Id):\n",
    "    n = movies_rating_count.loc[movie_Id, 'rating_count']\n",
    "    sum_ = movies_rating_mean.loc[movie_Id, 'rating_mean'] * n\n",
    "    b_mean = (C*m + sum_) / (C + n)\n",
    "    return b_mean"
   ]
  },
  {
   "cell_type": "code",
   "execution_count": 43,
   "id": "3d679bd3-dac4-4f56-af6d-1b9c3807ce18",
   "metadata": {},
   "outputs": [
    {
     "name": "stdout",
     "output_type": "stream",
     "text": [
      "The bayesian average for the \"best\" movie \"A Flintstones Christmas Carol \" is 3.4151419224120554\n"
     ]
    }
   ],
   "source": [
    "print('The bayesian average for the \"best\" movie \"A Flintstones Christmas Carol \" is {}'.format(bayesian_mean(126088)))"
   ]
  },
  {
   "cell_type": "markdown",
   "id": "4374ca93-7708-44bb-873c-87ef0f61f6f0",
   "metadata": {},
   "source": [
    "Our bayesian average seems to be correct because the new mean for that film is not close to 5, making it clear that we are not giving to much weight to the votes that the film had."
   ]
  },
  {
   "cell_type": "code",
   "execution_count": 44,
   "id": "741927e3-87b4-4444-bc1a-0ce68b3fa42f",
   "metadata": {},
   "outputs": [
    {
     "data": {
      "text/html": [
       "<div>\n",
       "<style scoped>\n",
       "    .dataframe tbody tr th:only-of-type {\n",
       "        vertical-align: middle;\n",
       "    }\n",
       "\n",
       "    .dataframe tbody tr th {\n",
       "        vertical-align: top;\n",
       "    }\n",
       "\n",
       "    .dataframe thead th {\n",
       "        text-align: right;\n",
       "    }\n",
       "</style>\n",
       "<table border=\"1\" class=\"dataframe\">\n",
       "  <thead>\n",
       "    <tr style=\"text-align: right;\">\n",
       "      <th></th>\n",
       "      <th>movieId</th>\n",
       "      <th>rating_count</th>\n",
       "      <th>title</th>\n",
       "      <th>rating_mean</th>\n",
       "      <th>rating_bayesian_mean</th>\n",
       "    </tr>\n",
       "  </thead>\n",
       "  <tbody>\n",
       "    <tr>\n",
       "      <th>1</th>\n",
       "      <td>318</td>\n",
       "      <td>317</td>\n",
       "      <td>Shawshank Redemption, The</td>\n",
       "      <td>4.429022</td>\n",
       "      <td>4.392051</td>\n",
       "    </tr>\n",
       "    <tr>\n",
       "      <th>21</th>\n",
       "      <td>858</td>\n",
       "      <td>192</td>\n",
       "      <td>Godfather, The</td>\n",
       "      <td>4.289062</td>\n",
       "      <td>4.236431</td>\n",
       "    </tr>\n",
       "    <tr>\n",
       "      <th>10</th>\n",
       "      <td>2959</td>\n",
       "      <td>218</td>\n",
       "      <td>Fight Club</td>\n",
       "      <td>4.272936</td>\n",
       "      <td>4.227028</td>\n",
       "    </tr>\n",
       "    <tr>\n",
       "      <th>5</th>\n",
       "      <td>260</td>\n",
       "      <td>251</td>\n",
       "      <td>Star Wars: Episode IV - A New Hope</td>\n",
       "      <td>4.231076</td>\n",
       "      <td>4.192626</td>\n",
       "    </tr>\n",
       "    <tr>\n",
       "      <th>14</th>\n",
       "      <td>50</td>\n",
       "      <td>204</td>\n",
       "      <td>Usual Suspects, The</td>\n",
       "      <td>4.237745</td>\n",
       "      <td>4.190543</td>\n",
       "    </tr>\n",
       "    <tr>\n",
       "      <th>...</th>\n",
       "      <td>...</td>\n",
       "      <td>...</td>\n",
       "      <td>...</td>\n",
       "      <td>...</td>\n",
       "      <td>...</td>\n",
       "    </tr>\n",
       "    <tr>\n",
       "      <th>1525</th>\n",
       "      <td>2643</td>\n",
       "      <td>16</td>\n",
       "      <td>Superman IV: The Quest for Peace</td>\n",
       "      <td>1.687500</td>\n",
       "      <td>2.306984</td>\n",
       "    </tr>\n",
       "    <tr>\n",
       "      <th>968</th>\n",
       "      <td>1499</td>\n",
       "      <td>27</td>\n",
       "      <td>Anaconda</td>\n",
       "      <td>1.925926</td>\n",
       "      <td>2.296902</td>\n",
       "    </tr>\n",
       "    <tr>\n",
       "      <th>804</th>\n",
       "      <td>1882</td>\n",
       "      <td>33</td>\n",
       "      <td>Godzilla</td>\n",
       "      <td>1.954545</td>\n",
       "      <td>2.267359</td>\n",
       "    </tr>\n",
       "    <tr>\n",
       "      <th>1332</th>\n",
       "      <td>3593</td>\n",
       "      <td>19</td>\n",
       "      <td>Battlefield Earth</td>\n",
       "      <td>1.657895</td>\n",
       "      <td>2.224568</td>\n",
       "    </tr>\n",
       "    <tr>\n",
       "      <th>1328</th>\n",
       "      <td>1556</td>\n",
       "      <td>19</td>\n",
       "      <td>Speed 2: Cruise Control</td>\n",
       "      <td>1.605263</td>\n",
       "      <td>2.190524</td>\n",
       "    </tr>\n",
       "  </tbody>\n",
       "</table>\n",
       "<p>9719 rows × 5 columns</p>\n",
       "</div>"
      ],
      "text/plain": [
       "      movieId  rating_count                               title  rating_mean  \\\n",
       "1         318           317           Shawshank Redemption, The     4.429022   \n",
       "21        858           192                      Godfather, The     4.289062   \n",
       "10       2959           218                          Fight Club     4.272936   \n",
       "5         260           251  Star Wars: Episode IV - A New Hope     4.231076   \n",
       "14         50           204                 Usual Suspects, The     4.237745   \n",
       "...       ...           ...                                 ...          ...   \n",
       "1525     2643            16    Superman IV: The Quest for Peace     1.687500   \n",
       "968      1499            27                            Anaconda     1.925926   \n",
       "804      1882            33                            Godzilla     1.954545   \n",
       "1332     3593            19                   Battlefield Earth     1.657895   \n",
       "1328     1556            19             Speed 2: Cruise Control     1.605263   \n",
       "\n",
       "      rating_bayesian_mean  \n",
       "1                 4.392051  \n",
       "21                4.236431  \n",
       "10                4.227028  \n",
       "5                 4.192626  \n",
       "14                4.190543  \n",
       "...                    ...  \n",
       "1525              2.306984  \n",
       "968               2.296902  \n",
       "804               2.267359  \n",
       "1332              2.224568  \n",
       "1328              2.190524  \n",
       "\n",
       "[9719 rows x 5 columns]"
      ]
     },
     "execution_count": 44,
     "metadata": {},
     "output_type": "execute_result"
    }
   ],
   "source": [
    "movies_rating_stats = pd.concat([movies_rating_count, movies_rating_mean], axis=1).reset_index()\n",
    "\n",
    "#We eliminate the second column 'title' \n",
    "movies_rating_stats = movies_rating_stats.loc[:, ~movies_rating_stats.columns.duplicated()]\n",
    "\n",
    "movies_rating_stats['rating_bayesian_mean'] = movies_rating_stats['movieId'].apply(lambda x: bayesian_mean(x))\n",
    "movies_rating_stats.sort_values(by = 'rating_bayesian_mean',ascending = False)"
   ]
  },
  {
   "cell_type": "markdown",
   "id": "b521a630-4023-464f-9bea-7c0e07b92c77",
   "metadata": {},
   "source": [
    "Finally, we can add the new features to the `movies_df`in order to work with them in the future:"
   ]
  },
  {
   "cell_type": "code",
   "execution_count": 45,
   "id": "18e9744d-0530-4e52-9494-c618400207a5",
   "metadata": {},
   "outputs": [
    {
     "data": {
      "text/html": [
       "<div>\n",
       "<style scoped>\n",
       "    .dataframe tbody tr th:only-of-type {\n",
       "        vertical-align: middle;\n",
       "    }\n",
       "\n",
       "    .dataframe tbody tr th {\n",
       "        vertical-align: top;\n",
       "    }\n",
       "\n",
       "    .dataframe thead th {\n",
       "        text-align: right;\n",
       "    }\n",
       "</style>\n",
       "<table border=\"1\" class=\"dataframe\">\n",
       "  <thead>\n",
       "    <tr style=\"text-align: right;\">\n",
       "      <th></th>\n",
       "      <th>movieId</th>\n",
       "      <th>title</th>\n",
       "      <th>genres</th>\n",
       "      <th>year</th>\n",
       "      <th>genres_str</th>\n",
       "      <th>rating_count</th>\n",
       "      <th>rating_mean</th>\n",
       "      <th>rating_bayesian_mean</th>\n",
       "    </tr>\n",
       "  </thead>\n",
       "  <tbody>\n",
       "    <tr>\n",
       "      <th>277</th>\n",
       "      <td>318</td>\n",
       "      <td>Shawshank Redemption, The</td>\n",
       "      <td>[Crime, Drama]</td>\n",
       "      <td>1994</td>\n",
       "      <td>Crime Drama</td>\n",
       "      <td>317</td>\n",
       "      <td>4.429022</td>\n",
       "      <td>4.392051</td>\n",
       "    </tr>\n",
       "    <tr>\n",
       "      <th>659</th>\n",
       "      <td>858</td>\n",
       "      <td>Godfather, The</td>\n",
       "      <td>[Crime, Drama]</td>\n",
       "      <td>1972</td>\n",
       "      <td>Crime Drama</td>\n",
       "      <td>192</td>\n",
       "      <td>4.289062</td>\n",
       "      <td>4.236431</td>\n",
       "    </tr>\n",
       "    <tr>\n",
       "      <th>2224</th>\n",
       "      <td>2959</td>\n",
       "      <td>Fight Club</td>\n",
       "      <td>[Action, Crime, Drama, Thriller]</td>\n",
       "      <td>1999</td>\n",
       "      <td>Action Crime Drama Thriller</td>\n",
       "      <td>218</td>\n",
       "      <td>4.272936</td>\n",
       "      <td>4.227028</td>\n",
       "    </tr>\n",
       "    <tr>\n",
       "      <th>224</th>\n",
       "      <td>260</td>\n",
       "      <td>Star Wars: Episode IV - A New Hope</td>\n",
       "      <td>[Action, Adventure, Sci-Fi]</td>\n",
       "      <td>1977</td>\n",
       "      <td>Action Adventure Sci-Fi</td>\n",
       "      <td>251</td>\n",
       "      <td>4.231076</td>\n",
       "      <td>4.192626</td>\n",
       "    </tr>\n",
       "    <tr>\n",
       "      <th>46</th>\n",
       "      <td>50</td>\n",
       "      <td>Usual Suspects, The</td>\n",
       "      <td>[Crime, Mystery, Thriller]</td>\n",
       "      <td>1995</td>\n",
       "      <td>Crime Mystery Thriller</td>\n",
       "      <td>204</td>\n",
       "      <td>4.237745</td>\n",
       "      <td>4.190543</td>\n",
       "    </tr>\n",
       "    <tr>\n",
       "      <th>...</th>\n",
       "      <td>...</td>\n",
       "      <td>...</td>\n",
       "      <td>...</td>\n",
       "      <td>...</td>\n",
       "      <td>...</td>\n",
       "      <td>...</td>\n",
       "      <td>...</td>\n",
       "      <td>...</td>\n",
       "    </tr>\n",
       "    <tr>\n",
       "      <th>1988</th>\n",
       "      <td>2643</td>\n",
       "      <td>Superman IV: The Quest for Peace</td>\n",
       "      <td>[Action, Adventure, Sci-Fi]</td>\n",
       "      <td>1987</td>\n",
       "      <td>Action Adventure Sci-Fi</td>\n",
       "      <td>16</td>\n",
       "      <td>1.687500</td>\n",
       "      <td>2.306984</td>\n",
       "    </tr>\n",
       "    <tr>\n",
       "      <th>1144</th>\n",
       "      <td>1499</td>\n",
       "      <td>Anaconda</td>\n",
       "      <td>[Action, Adventure, Thriller]</td>\n",
       "      <td>1997</td>\n",
       "      <td>Action Adventure Thriller</td>\n",
       "      <td>27</td>\n",
       "      <td>1.925926</td>\n",
       "      <td>2.296902</td>\n",
       "    </tr>\n",
       "    <tr>\n",
       "      <th>1372</th>\n",
       "      <td>1882</td>\n",
       "      <td>Godzilla</td>\n",
       "      <td>[Action, Sci-Fi, Thriller]</td>\n",
       "      <td>1998</td>\n",
       "      <td>Action Sci-Fi Thriller</td>\n",
       "      <td>33</td>\n",
       "      <td>1.954545</td>\n",
       "      <td>2.267359</td>\n",
       "    </tr>\n",
       "    <tr>\n",
       "      <th>2679</th>\n",
       "      <td>3593</td>\n",
       "      <td>Battlefield Earth</td>\n",
       "      <td>[Action, Sci-Fi]</td>\n",
       "      <td>2000</td>\n",
       "      <td>Action Sci-Fi</td>\n",
       "      <td>19</td>\n",
       "      <td>1.657895</td>\n",
       "      <td>2.224568</td>\n",
       "    </tr>\n",
       "    <tr>\n",
       "      <th>1172</th>\n",
       "      <td>1556</td>\n",
       "      <td>Speed 2: Cruise Control</td>\n",
       "      <td>[Action, Romance, Thriller]</td>\n",
       "      <td>1997</td>\n",
       "      <td>Action Romance Thriller</td>\n",
       "      <td>19</td>\n",
       "      <td>1.605263</td>\n",
       "      <td>2.190524</td>\n",
       "    </tr>\n",
       "  </tbody>\n",
       "</table>\n",
       "<p>9719 rows × 8 columns</p>\n",
       "</div>"
      ],
      "text/plain": [
       "      movieId                               title  \\\n",
       "277       318           Shawshank Redemption, The   \n",
       "659       858                      Godfather, The   \n",
       "2224     2959                          Fight Club   \n",
       "224       260  Star Wars: Episode IV - A New Hope   \n",
       "46         50                 Usual Suspects, The   \n",
       "...       ...                                 ...   \n",
       "1988     2643    Superman IV: The Quest for Peace   \n",
       "1144     1499                            Anaconda   \n",
       "1372     1882                            Godzilla   \n",
       "2679     3593                   Battlefield Earth   \n",
       "1172     1556             Speed 2: Cruise Control   \n",
       "\n",
       "                                genres  year                   genres_str  \\\n",
       "277                     [Crime, Drama]  1994                  Crime Drama   \n",
       "659                     [Crime, Drama]  1972                  Crime Drama   \n",
       "2224  [Action, Crime, Drama, Thriller]  1999  Action Crime Drama Thriller   \n",
       "224        [Action, Adventure, Sci-Fi]  1977      Action Adventure Sci-Fi   \n",
       "46          [Crime, Mystery, Thriller]  1995       Crime Mystery Thriller   \n",
       "...                                ...   ...                          ...   \n",
       "1988       [Action, Adventure, Sci-Fi]  1987      Action Adventure Sci-Fi   \n",
       "1144     [Action, Adventure, Thriller]  1997    Action Adventure Thriller   \n",
       "1372        [Action, Sci-Fi, Thriller]  1998       Action Sci-Fi Thriller   \n",
       "2679                  [Action, Sci-Fi]  2000                Action Sci-Fi   \n",
       "1172       [Action, Romance, Thriller]  1997      Action Romance Thriller   \n",
       "\n",
       "      rating_count  rating_mean  rating_bayesian_mean  \n",
       "277            317     4.429022              4.392051  \n",
       "659            192     4.289062              4.236431  \n",
       "2224           218     4.272936              4.227028  \n",
       "224            251     4.231076              4.192626  \n",
       "46             204     4.237745              4.190543  \n",
       "...            ...          ...                   ...  \n",
       "1988            16     1.687500              2.306984  \n",
       "1144            27     1.925926              2.296902  \n",
       "1372            33     1.954545              2.267359  \n",
       "2679            19     1.657895              2.224568  \n",
       "1172            19     1.605263              2.190524  \n",
       "\n",
       "[9719 rows x 8 columns]"
      ]
     },
     "execution_count": 45,
     "metadata": {},
     "output_type": "execute_result"
    }
   ],
   "source": [
    "movies_df = pd.concat([movies_df.set_index('movieId'),movies_rating_count, movies_rating_mean], axis=1).reset_index()\n",
    "\n",
    "#We eliminate the duplicated columns: \n",
    "movies_df = movies_df.loc[:, ~movies_df.columns.duplicated()]\n",
    "\n",
    "#We calculate the 'rating_bayesian_mean'\n",
    "movies_df['rating_bayesian_mean'] = movies_df['movieId'].apply(lambda x: bayesian_mean(x))\n",
    "movies_df.sort_values(by = 'rating_bayesian_mean',ascending = False)"
   ]
  },
  {
   "cell_type": "markdown",
   "id": "b3d1d579-aabf-4c79-aace-491c5422e8ea",
   "metadata": {},
   "source": [
    "Now our estimates are far more closer to reality, in which the movies that are in the top are really popular and the last movies sometimes have been consider as bad films."
   ]
  },
  {
   "cell_type": "markdown",
   "id": "f7509fea-5b81-4c8a-9587-080f4798757f",
   "metadata": {},
   "source": [
    "### **Year analysis**"
   ]
  },
  {
   "cell_type": "markdown",
   "id": "1f34e744-9eec-4c66-bf9e-6cd89b149021",
   "metadata": {},
   "source": [
    "Let's see how are the years distributed:"
   ]
  },
  {
   "cell_type": "code",
   "execution_count": 46,
   "id": "f787f792-dc78-4e4b-8e21-7d9831e12c42",
   "metadata": {},
   "outputs": [
    {
     "name": "stdout",
     "output_type": "stream",
     "text": [
      "count    9719.000000\n",
      "mean     1994.680626\n",
      "std        18.497667\n",
      "min      1902.000000\n",
      "25%      1988.000000\n",
      "50%      1999.000000\n",
      "75%      2008.000000\n",
      "max      2023.000000\n",
      "Name: year, dtype: float64\n"
     ]
    }
   ],
   "source": [
    "print(movies_df['year'].describe())"
   ]
  },
  {
   "cell_type": "markdown",
   "id": "4fee41e3-0bb8-4b32-8352-0a7422b8bf00",
   "metadata": {},
   "source": [
    "Let's consider `years` as sample of a population. From the basic statistics we can deduce that most of the values will be concentrated around the years 1990 and 2000, even though we have films from 1902 to 2023. Therefore we will not have a uniform distribution of the data. \n",
    "\n",
    "Let's see how the probability mass function would be distributed:"
   ]
  },
  {
   "cell_type": "code",
   "execution_count": 47,
   "id": "ba4719d8-d434-42fb-882b-d135c0cc5406",
   "metadata": {},
   "outputs": [
    {
     "data": {
      "image/png": "[encoded data removed]",
      "text/plain": [
       "<Figure size 640x480 with 1 Axes>"
      ]
     },
     "metadata": {},
     "output_type": "display_data"
    }
   ],
   "source": [
    "from collections import Counter\n",
    "\n",
    "years = movies.year\n",
    "freq = Counter(years)\n",
    "\n",
    "total = len(years)\n",
    "probabilities = {k: v / total for k, v in freq.items()}\n",
    "\n",
    "years_uniques = list(probabilities.keys())\n",
    "probs = list(probabilities.values())\n",
    "\n",
    "plt.bar(years_uniques, probs, color='skyblue')\n",
    "plt.xlabel('Years')\n",
    "plt.ylabel('Probability')\n",
    "plt.title('Probability mass function')\n",
    "plt.show()"
   ]
  },
  {
   "cell_type": "markdown",
   "id": "9bd667ec-10e1-4952-8f36-bede988bc053",
   "metadata": {},
   "source": [
    "Let's try to adjust the data to a specific distribution. We will try to fit our data to a Poisson distribution and, as the sample is large enough, we can try to fit it to different continuous distributions. We will chose the `distribution that minimize the AIC`:\n",
    "$$\n",
    "AIC = 2 \\cdot k - 2 \\cdot \\ln(L)\n",
    "$$\n",
    "where $k$ is the number of parameters estimated and $L$ is the likelihood function of the best model given the distribution."
   ]
  },
  {
   "cell_type": "code",
   "execution_count": 48,
   "id": "9b1cdf52-0b83-48b0-b286-c119fae7dfc2",
   "metadata": {},
   "outputs": [
    {
     "name": "stdout",
     "output_type": "stream",
     "text": [
      "  Distribution           AIC  \\\n",
      "0      poisson  93386.509889   \n",
      "1         norm  84297.503134   \n",
      "2      lognorm  84299.543465   \n",
      "3        gamma  86236.720960   \n",
      "4  weibull_min  80859.192496   \n",
      "\n",
      "                                          Parameters  \n",
      "0                              (1994.6806255787633,)  \n",
      "1           (1994.6806255787633, 18.496715285842487)  \n",
      "2  (2.8987357489515093e-06, -6378978.014091806, 6...  \n",
      "3  (30.709296297494163, 1874.902756254177, 3.8929...  \n",
      "4        (159.06921682970236, 0, 2002.5180641219051)  \n",
      "\n",
      "Best fit found:\n",
      "Distribution                                    weibull_min\n",
      "AIC                                            80859.192496\n",
      "Parameters      (159.06921682970236, 0, 2002.5180641219051)\n",
      "Name: 4, dtype: object\n"
     ]
    }
   ],
   "source": [
    "import scipy.stats as stats\n",
    "\n",
    "# List of continuous distributions to try (Poisson is handled separately)\n",
    "continuous_distributions = [stats.norm, stats.lognorm, stats.gamma, stats.weibull_min]\n",
    "\n",
    "# Function to calculate AIC\n",
    "def calculate_aic(ll, k):\n",
    "    return 2 * k - 2 * ll\n",
    "\n",
    "results = []\n",
    "\n",
    "# Fit the Poisson distribution manually\n",
    "mu_poisson = np.mean(years)\n",
    "log_likelihood_poisson = np.sum(stats.poisson.logpmf(years, mu_poisson))\n",
    "aic_poisson = calculate_aic(log_likelihood_poisson, 1)\n",
    "results.append((\"poisson\", aic_poisson, (mu_poisson,)))\n",
    "\n",
    "# Fit the continuous distributions and calculate their AIC\n",
    "for dist in continuous_distributions:\n",
    "    # Fit the distribution to the data, fixing loc=0 for Weibull\n",
    "    if dist == stats.weibull_min:\n",
    "        params = dist.fit(years, floc=0)\n",
    "    else:\n",
    "        params = dist.fit(years)\n",
    "        \n",
    "    log_likelihood = np.sum(dist.logpdf(years, *params))\n",
    "    \n",
    "    # Number of parameters\n",
    "    k = len(params)\n",
    "    \n",
    "    # Calculate AIC\n",
    "    aic = calculate_aic(log_likelihood, k)\n",
    "    \n",
    "    # Store results\n",
    "    results.append((dist.name, aic, params))\n",
    "\n",
    "# Convert results to a DataFrame for better visualization\n",
    "results_df = pd.DataFrame(results, columns=['Distribution', 'AIC', 'Parameters'])\n",
    "best_fit = results_df.loc[results_df['AIC'].idxmin()]\n",
    "\n",
    "# Display the best distribution found\n",
    "print(results_df)\n",
    "print(\"\\nBest fit found:\")\n",
    "print(best_fit)\n"
   ]
  },
  {
   "cell_type": "code",
   "execution_count": 49,
   "id": "19b3a6e9-8f1b-49b3-9f8d-190d2f75963c",
   "metadata": {},
   "outputs": [
    {
     "data": {
      "image/png": "[encoded data removed]",
      "text/plain": [
       "<Figure size 640x480 with 1 Axes>"
      ]
     },
     "metadata": {},
     "output_type": "display_data"
    }
   ],
   "source": [
    "#We graph again the data\n",
    "plt.bar(years_uniques, probs, color='skyblue', label='Empiric Data')\n",
    "\n",
    "best_fit_name = best_fit['Distribution']\n",
    "best_fit_params = best_fit['Parameters']\n",
    "\n",
    "# Generate density values\n",
    "discrete_values = np.arange(0, max(years) + 1)\n",
    "\n",
    "distribution = getattr(stats, best_fit_name)\n",
    "theoretical_probabilities = distribution.pdf(discrete_values, *best_fit_params)\n",
    "\n",
    "# Plot the fitted distribution over the empirical data\n",
    "plt.plot(discrete_values, theoretical_probabilities, color='red', lw=2, label= best_fit_name)\n",
    "\n",
    "plt.xlabel('Years')\n",
    "plt.ylabel('Probability')\n",
    "plt.title('Best Fit')\n",
    "plt.legend()\n",
    "\n",
    "plt.xlim(1900,2030)\n",
    "plt.show()"
   ]
  },
  {
   "cell_type": "markdown",
   "id": "0fd81091-a66d-4138-b4ff-a9424bd2ac44",
   "metadata": {},
   "source": [
    "To verify whether the distribution from which the random sample comes can truly be approximated by a Weibull we should perform a hypothesis test, for example a **$\\chi ^2$ test**.\n"
   ]
  },
  {
   "cell_type": "markdown",
   "id": "8583a926-e376-47fe-ab72-b0eabd0f2da6",
   "metadata": {},
   "source": [
    "### **Genres analysis**"
   ]
  },
  {
   "cell_type": "markdown",
   "id": "383ddc42-4c8a-4870-8a18-57e927929e44",
   "metadata": {},
   "source": [
    "Let's count the number of genres and their frequency:"
   ]
  },
  {
   "cell_type": "code",
   "execution_count": 50,
   "id": "097a8888-4efe-49df-987d-52f1fbeb3ff0",
   "metadata": {},
   "outputs": [],
   "source": [
    "genres_freq = Counter([g for movie_genres in movies_df['genres'] for g in movie_genres])"
   ]
  },
  {
   "cell_type": "code",
   "execution_count": 51,
   "id": "16f06a8a-3a1c-4a3c-827e-dc2a32a02a05",
   "metadata": {},
   "outputs": [
    {
     "data": {
      "image/png": "[encoded data removed]",
      "text/plain": [
       "<Figure size 640x480 with 1 Axes>"
      ]
     },
     "metadata": {},
     "output_type": "display_data"
    }
   ],
   "source": [
    "genre_freq_df = pd.DataFrame([genres_freq]).T.reset_index()\n",
    "genre_freq_df.columns = ['genre', 'count']\n",
    "sns.barplot(x='genre', y='count', data=genre_freq_df.sort_values(by='count', ascending=True),hue='genre', palette='rocket', dodge=False)\n",
    "plt.xticks(rotation=90)\n",
    "plt.show()"
   ]
  },
  {
   "cell_type": "markdown",
   "id": "f6b49a5e-0fc0-40bb-82fc-2845a5c2b1ef",
   "metadata": {},
   "source": [
    "## **4. Recommendation Systems**"
   ]
  },
  {
   "cell_type": "markdown",
   "id": "2e124477-930e-488f-ac59-5936e5768d32",
   "metadata": {},
   "source": [
    "In this section, once the data has been cleaned and an exploratory analysis has been performed, we can begin to develop machine learning models."
   ]
  },
  {
   "cell_type": "markdown",
   "id": "e3a96375-bcdc-47f0-a042-2d01cbe79356",
   "metadata": {},
   "source": [
    "### **Content-based model**"
   ]
  },
  {
   "cell_type": "markdown",
   "id": "37a24805-17ca-41e5-a0c4-097e6a4f7bd5",
   "metadata": {},
   "source": [
    "The first model we will develop is a **content-based recommendation system** in which, based on a movie, we will get several recommendations that will be similar to the one we introduced. \n",
    "\n",
    "Despite not using the `ratings_df` data set, this recommender has the advantage of being able to deal with **new_movies** that do not have ratings: **cold start problem**.\n"
   ]
  },
  {
   "cell_type": "markdown",
   "id": "72593eca-792f-4b3f-8aaa-c91608439580",
   "metadata": {},
   "source": [
    "First we have to convert the `string` data into numbers. `TF-IDF` is a technique that converts text into numerical vectors. It is used to measure the relevance of a word in a string relative to the entire corpus (all the strings).\n",
    "\n",
    "- **Term Frequency (TF):** Measures how frequently a word appears in a document compared to the total number of words in the document.\n",
    "  $$\n",
    "  \\text{TF} = \\frac{\\text{Number of times the word appears in the document}}{\\text{Total number of words in the document}}\n",
    "  $$\n",
    "  \n",
    "- **Inverse Document Frequency (IDF):** Measures how common or rare a word is across all documents. If a word appears in many documents, its IDF value will be lower.\n",
    "  \n",
    "  $$\n",
    "  \\text{IDF} = \\log\\left(\\frac{\\text{Total number of documents}}{\\text{Number of documents that contain the word}}\\right)\n",
    "  $$\n",
    "\n",
    "Hence, \n",
    "    $$\n",
    "    \\text{TF - IDF} = \\text{TF} \\cdot \\text{IDF}\n",
    "    $$\n"
   ]
  },
  {
   "cell_type": "code",
   "execution_count": 52,
   "id": "165a0cb9-0e8a-4928-ad33-687aa853cd99",
   "metadata": {},
   "outputs": [],
   "source": [
    "from sklearn.feature_extraction.text import TfidfVectorizer\n",
    "\n",
    "tfidf = TfidfVectorizer(stop_words='english')\n",
    "tfidf_matrix = tfidf.fit_transform(movies_df['genres_str'])"
   ]
  },
  {
   "cell_type": "markdown",
   "id": "3859e717-476e-4bb7-8dd1-bd55f6edeefc",
   "metadata": {},
   "source": [
    "Now, we have to measure the similarity between two vectors. `Cosine similarity` is a metric that is usually used to measure how similar two documents are, in this case based on the angle between their TF-IDF vectors.\n",
    "\n",
    "The formula for cosine similarity between two vectors **A** and **B** is:\n",
    "\n",
    "$$\n",
    "\\text{Cosine Similarity} = \\cos(\\theta)= \\frac{\\mathbf{A} \\cdot \\mathbf{B}}{\\|\\mathbf{A}\\| \\|\\mathbf{B}\\|}\n",
    "$$\n"
   ]
  },
  {
   "cell_type": "code",
   "execution_count": 53,
   "id": "9cb36ffb-1b00-4bc8-9af5-686f680c793c",
   "metadata": {},
   "outputs": [],
   "source": [
    "from sklearn.metrics.pairwise import cosine_similarity\n",
    "\n",
    "cosine_sim = cosine_similarity(tfidf_matrix, tfidf_matrix)"
   ]
  },
  {
   "cell_type": "markdown",
   "id": "480e401d-2812-48e7-82b5-31bca31d200c",
   "metadata": {},
   "source": [
    "To make the model richer and more personalized, we are going to add two boolean arguments:\n",
    "- `similar_year`: if this argument is True, the recommender will return movies that were realeased in a time frame similar to the target.\n",
    "- `mainstream`: if this argument is True, the recommender will return movies that have been very voted."
   ]
  },
  {
   "cell_type": "code",
   "execution_count": 54,
   "id": "b251e36e-84ca-4514-8eb5-af4b0edd7785",
   "metadata": {},
   "outputs": [],
   "source": [
    "def filter_by_year(movie_Id, similar_year=True, year_threshold=5):\n",
    "\n",
    "    # Get the year of the target movie\n",
    "    movie_year = movies_df.loc[movies_df['movieId'] == movie_Id, 'year'].values[0]\n",
    "    \n",
    "    # Get the list of all movie years\n",
    "    years = movies_df['year'].values\n",
    "    \n",
    "    if not similar_year:\n",
    "        # If not filtering by year, return a mask with all True values\n",
    "        return np.ones(len(years), dtype=bool)\n",
    "    else:\n",
    "        # Filter movies within the year threshold\n",
    "        return np.abs(years - movie_year) <= year_threshold"
   ]
  },
  {
   "cell_type": "code",
   "execution_count": 55,
   "id": "12621477-b78b-4d3f-aa9d-ef4505852144",
   "metadata": {},
   "outputs": [],
   "source": [
    "def adjust_for_popularity(sim_scores, rating_count, bayesian_average, mainstream=True):\n",
    "    \n",
    "    # Normalize the number of ratings and the Bayesian average to the range [0, 1]\n",
    "    rating_scaled = (rating_count - rating_count.min()) / (rating_count.max() - rating_count.min())\n",
    "    bayesian_scaled = (bayesian_average - bayesian_average.min()) / (bayesian_average.max() - bayesian_average.min())\n",
    "\n",
    "    # In adition, this function always boost movies with a high Bayesian average\n",
    "    sim_scores = sim_scores * (1 + bayesian_scaled)\n",
    "\n",
    "    # We boost or decrease the influence of 'number of ratings':\n",
    "    if mainstream:\n",
    "        return sim_scores * (1 + rating_scaled)\n",
    "    else:\n",
    "        return sim_scores * (1 - rating_scaled)  # Reduce influence of popular movies\n"
   ]
  },
  {
   "cell_type": "markdown",
   "id": "e672707a-fe9f-46f4-ac8a-8032d403841a",
   "metadata": {},
   "source": [
    "Finally, we create the final recommender:"
   ]
  },
  {
   "cell_type": "code",
   "execution_count": 56,
   "id": "48c852cd-b888-4cd5-bd2e-ab71e9238b8f",
   "metadata": {},
   "outputs": [],
   "source": [
    "def recommend_movies(movie_title, n=5, mainstream=True, Similar_year=False):\n",
    "\n",
    "    # Get the index of the movie that matches the title\n",
    "    try:\n",
    "        movie_index = movies_df[movies_df['title'] == movie_title].index[0]\n",
    "        movie_Id = movies_df.loc[movie_index, 'movieId']\n",
    "        movie_year = movies_df.loc[movie_index, 'year']\n",
    "    except IndexError:\n",
    "        print(f\"Movie '{movie_title}' not found.\")\n",
    "        return []\n",
    "\n",
    "\n",
    "    # Adjust similarity scores\n",
    "    sim_scores = adjust_for_popularity(cosine_sim[movie_index], movies_df['rating_count'].values, movies_df['rating_bayesian_mean'].values, mainstream)\n",
    "    \n",
    "    # Apply year filtering if similar_year is True\n",
    "    year_mask = filter_by_year(movie_Id, similar_year = Similar_year)\n",
    "    sim_scores = sim_scores * year_mask\n",
    "    \n",
    "    # Sort movies by similarity score, excluding the movie itself\n",
    "    movie_indices = sim_scores.argsort()[-(n+1):-1][::-1]  # Get top n movies excluding the target movie itself\n",
    "    \n",
    "    print('You have seen:\\n ',movies_df.iloc[movie_index])\n",
    "\n",
    "    return movies_df.iloc[movie_indices]"
   ]
  },
  {
   "cell_type": "markdown",
   "id": "4424621a-cd86-4e27-823b-1a23d1bb2a64",
   "metadata": {},
   "source": [
    "Let's see some examples:\n",
    "\n",
    "1. We want 5 recommendations for the movie `Hercules`, similar in year and with many votes:"
   ]
  },
  {
   "cell_type": "code",
   "execution_count": 57,
   "id": "59ce6f0f-ce28-42ba-964c-2a505b768f16",
   "metadata": {},
   "outputs": [
    {
     "name": "stdout",
     "output_type": "stream",
     "text": [
      "You have seen:\n",
      "  movieId                                                              1566\n",
      "title                                                            Hercules\n",
      "genres                  [Adventure, Animation, Children, Comedy, Musical]\n",
      "year                                                                 1997\n",
      "genres_str                    Adventure Animation Children Comedy Musical\n",
      "rating_count                                                           31\n",
      "rating_mean                                                      3.451613\n",
      "rating_bayesian_mean                                             3.404163\n",
      "Name: 1176, dtype: object\n"
     ]
    },
    {
     "data": {
      "text/html": [
       "<div>\n",
       "<style scoped>\n",
       "    .dataframe tbody tr th:only-of-type {\n",
       "        vertical-align: middle;\n",
       "    }\n",
       "\n",
       "    .dataframe tbody tr th {\n",
       "        vertical-align: top;\n",
       "    }\n",
       "\n",
       "    .dataframe thead th {\n",
       "        text-align: right;\n",
       "    }\n",
       "</style>\n",
       "<table border=\"1\" class=\"dataframe\">\n",
       "  <thead>\n",
       "    <tr style=\"text-align: right;\">\n",
       "      <th></th>\n",
       "      <th>movieId</th>\n",
       "      <th>title</th>\n",
       "      <th>genres</th>\n",
       "      <th>year</th>\n",
       "      <th>genres_str</th>\n",
       "      <th>rating_count</th>\n",
       "      <th>rating_mean</th>\n",
       "      <th>rating_bayesian_mean</th>\n",
       "    </tr>\n",
       "  </thead>\n",
       "  <tbody>\n",
       "    <tr>\n",
       "      <th>322</th>\n",
       "      <td>364</td>\n",
       "      <td>Lion King, The</td>\n",
       "      <td>[Adventure, Animation, Children, Drama, Musica...</td>\n",
       "      <td>1994</td>\n",
       "      <td>Adventure Animation Children Drama Musical IMAX</td>\n",
       "      <td>172</td>\n",
       "      <td>3.941860</td>\n",
       "      <td>3.903208</td>\n",
       "    </tr>\n",
       "    <tr>\n",
       "      <th>0</th>\n",
       "      <td>1</td>\n",
       "      <td>Toy Story</td>\n",
       "      <td>[Adventure, Animation, Children, Comedy, Fantasy]</td>\n",
       "      <td>1995</td>\n",
       "      <td>Adventure Animation Children Comedy Fantasy</td>\n",
       "      <td>215</td>\n",
       "      <td>3.920930</td>\n",
       "      <td>3.890615</td>\n",
       "    </tr>\n",
       "    <tr>\n",
       "      <th>3189</th>\n",
       "      <td>4306</td>\n",
       "      <td>Shrek</td>\n",
       "      <td>[Adventure, Animation, Children, Comedy, Fanta...</td>\n",
       "      <td>2001</td>\n",
       "      <td>Adventure Animation Children Comedy Fantasy Ro...</td>\n",
       "      <td>170</td>\n",
       "      <td>3.867647</td>\n",
       "      <td>3.832834</td>\n",
       "    </tr>\n",
       "    <tr>\n",
       "      <th>3563</th>\n",
       "      <td>4886</td>\n",
       "      <td>Monsters, Inc.</td>\n",
       "      <td>[Adventure, Animation, Children, Comedy, Fantasy]</td>\n",
       "      <td>2001</td>\n",
       "      <td>Adventure Animation Children Comedy Fantasy</td>\n",
       "      <td>132</td>\n",
       "      <td>3.871212</td>\n",
       "      <td>3.826848</td>\n",
       "    </tr>\n",
       "    <tr>\n",
       "      <th>3740</th>\n",
       "      <td>5218</td>\n",
       "      <td>Ice Age</td>\n",
       "      <td>[Adventure, Animation, Children, Comedy]</td>\n",
       "      <td>2002</td>\n",
       "      <td>Adventure Animation Children Comedy</td>\n",
       "      <td>85</td>\n",
       "      <td>3.688235</td>\n",
       "      <td>3.641912</td>\n",
       "    </tr>\n",
       "  </tbody>\n",
       "</table>\n",
       "</div>"
      ],
      "text/plain": [
       "      movieId           title  \\\n",
       "322       364  Lion King, The   \n",
       "0           1       Toy Story   \n",
       "3189     4306           Shrek   \n",
       "3563     4886  Monsters, Inc.   \n",
       "3740     5218         Ice Age   \n",
       "\n",
       "                                                 genres  year  \\\n",
       "322   [Adventure, Animation, Children, Drama, Musica...  1994   \n",
       "0     [Adventure, Animation, Children, Comedy, Fantasy]  1995   \n",
       "3189  [Adventure, Animation, Children, Comedy, Fanta...  2001   \n",
       "3563  [Adventure, Animation, Children, Comedy, Fantasy]  2001   \n",
       "3740           [Adventure, Animation, Children, Comedy]  2002   \n",
       "\n",
       "                                             genres_str  rating_count  \\\n",
       "322     Adventure Animation Children Drama Musical IMAX           172   \n",
       "0           Adventure Animation Children Comedy Fantasy           215   \n",
       "3189  Adventure Animation Children Comedy Fantasy Ro...           170   \n",
       "3563        Adventure Animation Children Comedy Fantasy           132   \n",
       "3740                Adventure Animation Children Comedy            85   \n",
       "\n",
       "      rating_mean  rating_bayesian_mean  \n",
       "322      3.941860              3.903208  \n",
       "0        3.920930              3.890615  \n",
       "3189     3.867647              3.832834  \n",
       "3563     3.871212              3.826848  \n",
       "3740     3.688235              3.641912  "
      ]
     },
     "execution_count": 57,
     "metadata": {},
     "output_type": "execute_result"
    }
   ],
   "source": [
    "# We want 5 recommendations for :\n",
    "recommendation_example_1 = recommend_movies('Hercules', n=5, mainstream=True, Similar_year= True)\n",
    "recommendation_example_1"
   ]
  },
  {
   "cell_type": "markdown",
   "id": "4dedbd40-15a2-45b8-b1c1-2986e329b238",
   "metadata": {},
   "source": [
    "Now we want some movies similar to `Pulp Fiction`. But now we do not mind about the year of release:"
   ]
  },
  {
   "cell_type": "code",
   "execution_count": 58,
   "id": "17b26274-101a-4037-853a-e71b6fc8a97e",
   "metadata": {},
   "outputs": [
    {
     "name": "stdout",
     "output_type": "stream",
     "text": [
      "You have seen:\n",
      "  movieId                                              296\n",
      "title                                       Pulp Fiction\n",
      "genres                  [Comedy, Crime, Drama, Thriller]\n",
      "year                                                1994\n",
      "genres_str                   Comedy Crime Drama Thriller\n",
      "rating_count                                         307\n",
      "rating_mean                                     4.197068\n",
      "rating_bayesian_mean                            4.166515\n",
      "Name: 257, dtype: object\n"
     ]
    },
    {
     "data": {
      "text/html": [
       "<div>\n",
       "<style scoped>\n",
       "    .dataframe tbody tr th:only-of-type {\n",
       "        vertical-align: middle;\n",
       "    }\n",
       "\n",
       "    .dataframe tbody tr th {\n",
       "        vertical-align: top;\n",
       "    }\n",
       "\n",
       "    .dataframe thead th {\n",
       "        text-align: right;\n",
       "    }\n",
       "</style>\n",
       "<table border=\"1\" class=\"dataframe\">\n",
       "  <thead>\n",
       "    <tr style=\"text-align: right;\">\n",
       "      <th></th>\n",
       "      <th>movieId</th>\n",
       "      <th>title</th>\n",
       "      <th>genres</th>\n",
       "      <th>year</th>\n",
       "      <th>genres_str</th>\n",
       "      <th>rating_count</th>\n",
       "      <th>rating_mean</th>\n",
       "      <th>rating_bayesian_mean</th>\n",
       "    </tr>\n",
       "  </thead>\n",
       "  <tbody>\n",
       "    <tr>\n",
       "      <th>277</th>\n",
       "      <td>318</td>\n",
       "      <td>Shawshank Redemption, The</td>\n",
       "      <td>[Crime, Drama]</td>\n",
       "      <td>1994</td>\n",
       "      <td>Crime Drama</td>\n",
       "      <td>317</td>\n",
       "      <td>4.429022</td>\n",
       "      <td>4.392051</td>\n",
       "    </tr>\n",
       "    <tr>\n",
       "      <th>520</th>\n",
       "      <td>608</td>\n",
       "      <td>Fargo</td>\n",
       "      <td>[Comedy, Crime, Drama, Thriller]</td>\n",
       "      <td>1996</td>\n",
       "      <td>Comedy Crime Drama Thriller</td>\n",
       "      <td>181</td>\n",
       "      <td>4.116022</td>\n",
       "      <td>4.069746</td>\n",
       "    </tr>\n",
       "    <tr>\n",
       "      <th>2224</th>\n",
       "      <td>2959</td>\n",
       "      <td>Fight Club</td>\n",
       "      <td>[Action, Crime, Drama, Thriller]</td>\n",
       "      <td>1999</td>\n",
       "      <td>Action Crime Drama Thriller</td>\n",
       "      <td>218</td>\n",
       "      <td>4.272936</td>\n",
       "      <td>4.227028</td>\n",
       "    </tr>\n",
       "  </tbody>\n",
       "</table>\n",
       "</div>"
      ],
      "text/plain": [
       "      movieId                      title                            genres  \\\n",
       "277       318  Shawshank Redemption, The                    [Crime, Drama]   \n",
       "520       608                      Fargo  [Comedy, Crime, Drama, Thriller]   \n",
       "2224     2959                 Fight Club  [Action, Crime, Drama, Thriller]   \n",
       "\n",
       "      year                   genres_str  rating_count  rating_mean  \\\n",
       "277   1994                  Crime Drama           317     4.429022   \n",
       "520   1996  Comedy Crime Drama Thriller           181     4.116022   \n",
       "2224  1999  Action Crime Drama Thriller           218     4.272936   \n",
       "\n",
       "      rating_bayesian_mean  \n",
       "277               4.392051  \n",
       "520               4.069746  \n",
       "2224              4.227028  "
      ]
     },
     "execution_count": 58,
     "metadata": {},
     "output_type": "execute_result"
    }
   ],
   "source": [
    "recommendation_example_2 = recommend_movies(\"Pulp Fiction\", n=3, mainstream=True, Similar_year= False)\n",
    "recommendation_example_2"
   ]
  },
  {
   "cell_type": "markdown",
   "id": "c8d2f709-6dd4-4d4a-a152-a5647a1991ad",
   "metadata": {},
   "source": [
    "Finally, we would like some movies like `Sabrina` but we want they to be quite unknown:"
   ]
  },
  {
   "cell_type": "code",
   "execution_count": 59,
   "id": "fcbbd4b2-5227-403d-a015-27513d06eae6",
   "metadata": {},
   "outputs": [
    {
     "name": "stdout",
     "output_type": "stream",
     "text": [
      "You have seen:\n",
      "  movieId                                 7\n",
      "title                             Sabrina\n",
      "genres                  [Comedy, Romance]\n",
      "year                                 1995\n",
      "genres_str                 Comedy Romance\n",
      "rating_count                           54\n",
      "rating_mean                      3.185185\n",
      "rating_bayesian_mean             3.197625\n",
      "Name: 6, dtype: object\n"
     ]
    },
    {
     "data": {
      "text/html": [
       "<div>\n",
       "<style scoped>\n",
       "    .dataframe tbody tr th:only-of-type {\n",
       "        vertical-align: middle;\n",
       "    }\n",
       "\n",
       "    .dataframe tbody tr th {\n",
       "        vertical-align: top;\n",
       "    }\n",
       "\n",
       "    .dataframe thead th {\n",
       "        text-align: right;\n",
       "    }\n",
       "</style>\n",
       "<table border=\"1\" class=\"dataframe\">\n",
       "  <thead>\n",
       "    <tr style=\"text-align: right;\">\n",
       "      <th></th>\n",
       "      <th>movieId</th>\n",
       "      <th>title</th>\n",
       "      <th>genres</th>\n",
       "      <th>year</th>\n",
       "      <th>genres_str</th>\n",
       "      <th>rating_count</th>\n",
       "      <th>rating_mean</th>\n",
       "      <th>rating_bayesian_mean</th>\n",
       "    </tr>\n",
       "  </thead>\n",
       "  <tbody>\n",
       "    <tr>\n",
       "      <th>687</th>\n",
       "      <td>905</td>\n",
       "      <td>It Happened One Night</td>\n",
       "      <td>[Comedy, Romance]</td>\n",
       "      <td>1934</td>\n",
       "      <td>Comedy Romance</td>\n",
       "      <td>14</td>\n",
       "      <td>4.321429</td>\n",
       "      <td>3.870665</td>\n",
       "    </tr>\n",
       "    <tr>\n",
       "      <th>4773</th>\n",
       "      <td>7121</td>\n",
       "      <td>Adam's Rib</td>\n",
       "      <td>[Comedy, Romance]</td>\n",
       "      <td>1949</td>\n",
       "      <td>Comedy Romance</td>\n",
       "      <td>4</td>\n",
       "      <td>4.750000</td>\n",
       "      <td>3.676338</td>\n",
       "    </tr>\n",
       "    <tr>\n",
       "      <th>4384</th>\n",
       "      <td>6442</td>\n",
       "      <td>Belle époque</td>\n",
       "      <td>[Comedy, Romance]</td>\n",
       "      <td>1992</td>\n",
       "      <td>Comedy Romance</td>\n",
       "      <td>2</td>\n",
       "      <td>5.000000</td>\n",
       "      <td>3.543216</td>\n",
       "    </tr>\n",
       "    <tr>\n",
       "      <th>2207</th>\n",
       "      <td>2935</td>\n",
       "      <td>Lady Eve, The</td>\n",
       "      <td>[Comedy, Romance]</td>\n",
       "      <td>1941</td>\n",
       "      <td>Comedy Romance</td>\n",
       "      <td>8</td>\n",
       "      <td>4.000000</td>\n",
       "      <td>3.583528</td>\n",
       "    </tr>\n",
       "  </tbody>\n",
       "</table>\n",
       "</div>"
      ],
      "text/plain": [
       "      movieId                  title             genres  year      genres_str  \\\n",
       "687       905  It Happened One Night  [Comedy, Romance]  1934  Comedy Romance   \n",
       "4773     7121             Adam's Rib  [Comedy, Romance]  1949  Comedy Romance   \n",
       "4384     6442           Belle époque  [Comedy, Romance]  1992  Comedy Romance   \n",
       "2207     2935          Lady Eve, The  [Comedy, Romance]  1941  Comedy Romance   \n",
       "\n",
       "      rating_count  rating_mean  rating_bayesian_mean  \n",
       "687             14     4.321429              3.870665  \n",
       "4773             4     4.750000              3.676338  \n",
       "4384             2     5.000000              3.543216  \n",
       "2207             8     4.000000              3.583528  "
      ]
     },
     "execution_count": 59,
     "metadata": {},
     "output_type": "execute_result"
    }
   ],
   "source": [
    "recommendation_example_3 = recommend_movies(\"Sabrina\", n=4, mainstream=False, Similar_year= False)\n",
    "recommendation_example_3"
   ]
  },
  {
   "cell_type": "markdown",
   "id": "12a99b62-ab76-4ada-83d2-4d809d2ca2d0",
   "metadata": {},
   "source": [
    "## **Collaborative filttering**"
   ]
  },
  {
   "cell_type": "markdown",
   "id": "a2edbcf9-fdd1-476d-80d1-64d435d11dbb",
   "metadata": {},
   "source": [
    "First, let's have a look at the sparsity of our matrix:"
   ]
  },
  {
   "cell_type": "code",
   "execution_count": 68,
   "id": "a811e7bb-be88-4502-8132-cdf794de17d0",
   "metadata": {},
   "outputs": [
    {
     "name": "stdout",
     "output_type": "stream",
     "text": [
      "The full rating matrix will have 5928590 elements.\n",
      "The number of ratings is 100830\n",
      "Only 1.700741660327329 % of the matrix is filled.\n"
     ]
    }
   ],
   "source": [
    "n_users = ratings_df['userId'].nunique()\n",
    "n_items = ratings_df['movieId'].nunique()\n",
    "print('The full rating matrix will have {} elements.'.format(n_users*n_items))\n",
    "print(\"The number of ratings is\", len(ratings_df))\n",
    "print('Only {} % of the matrix is filled.'.format(len(ratings_df) / (n_users*n_items) * 100))"
   ]
  },
  {
   "cell_type": "markdown",
   "id": "f5b823a6-11fc-4c40-af1b-435ed5da4370",
   "metadata": {},
   "source": [
    "Therefore we are working with a really sparse matrix. We base our collaborative filttering model on matrix factorization. `Matrix factorization` consists of decomposing a matrix into several matrices of lower dimension (greatly **reducing the complexity**) and to find **latent relationships**. In this project we are using SVD descomposition"
   ]
  },
  {
   "cell_type": "markdown",
   "id": "172a36c8-0af9-400b-90f0-b0aa93adc253",
   "metadata": {},
   "source": [
    "### Singular Value Decomposition (SVD)\n",
    "\n",
    "Singular Value Decomposition (SVD) is a matrix factorization technique that decomposes a matrix $A$ into three distinct matrices:\n",
    "\n",
    "$$\n",
    "A = U \\Sigma V^T\n",
    "$$\n",
    "\n",
    "- **$U$**: An orthogonal matrix ($U \\cdot U^T = I$) whose columns are the left singular vectors of $A$.\n",
    "- **$\\Sigma$**: A diagonal matrix containing the singular values of $A$ sorted from bigger to lower.\n",
    "- **$V^T$**: The transpose of an orthogonal matrix $V$, whose columns are the right singular vectors of $A$.\n",
    "\n",
    "### Truncated Singular Value Decomposition (Truncated SVD)\n",
    "\n",
    "Truncated Singular Value Decomposition (Truncated SVD) reduces the dimensionality of a matrix by keeping only the most significant components.\n",
    "\n",
    "Truncated SVD approximates a matrix $ A $ by using only the top $ k $ singular values, reducing computational complexity while retaining the most significant features of the data.\n",
    "\n",
    "$$\n",
    "A \\approx U_k \\Sigma_k V_k^T\n",
    "$$\n",
    "\n",
    "where `k` is the number of components to retain.\n",
    "\n",
    "- **$ U_k $**: An orthogonal matrix with the first $ k $ columns of $ U $.\n",
    "- **$ \\Sigma_k $**: A diagonal matrix with the first $ k $ largest singular values of $ \\Sigma $.\n",
    "- **$ V_k^T $**: The transpose of an orthogonal matrix with the first $ k $ rows of $ V^T $."
   ]
  },
  {
   "cell_type": "code",
   "execution_count": 84,
   "id": "8ef2369b-7a8d-4db2-857f-eda98072292c",
   "metadata": {},
   "outputs": [],
   "source": [
    "#First we split the data into train and test:\n",
    "from sklearn.model_selection import train_test_split\n",
    "X_train_index, X_test_index = train_test_split(ratings_df.index, test_size= 0.5, random_state=48) #we split the index. We use 0.5 because performs better\n",
    "\n",
    "X_train = ratings_df.copy()\n",
    "X_test = ratings_df.copy()\n",
    "\n",
    "#now we replace the values that are not in the indexes by NaN in order to do not loss dimensions\n",
    "X_train['rating'] = X_train.apply(lambda x: np.nan if x.name in X_train_index else x.rating, axis=1) \n",
    "X_test['rating'] = X_test.apply(lambda x: np.nan if x.name in X_test_index else x.rating, axis=1)\n",
    "\n",
    "\n",
    "# We create the utility matrix (interactions between users and movies) for the train set\n",
    "utility_matrix_train = X_train.pivot_table(index='userId', columns='movieId', values='rating', dropna=False)\n",
    "\n",
    "from sklearn.impute import SimpleImputer\n",
    "# Now we define a imputer that is expected to fill the null values of each movie by its mean rating (we could use bayesian_mean)\n",
    "imputer = SimpleImputer(strategy='mean')\n",
    "\n",
    "\n",
    "#NOTE: As the data set is small, we probably have many movies without any rating in the train set. For that reason:\n",
    "# We identify the columns that have only NaN values:\n",
    "all_nan_columns = utility_matrix_train.columns[utility_matrix_train.isna().all()]\n",
    "\n",
    "# We fill only those columns with a default value (ex: 3 because we have seen many of the ratings usually are positive (we could chose mean(0.5,5))\n",
    "fill_value = 3\n",
    "utility_matrix_train_filled = utility_matrix_train.copy()\n",
    "utility_matrix_train_filled[all_nan_columns] = utility_matrix_train_filled[all_nan_columns].fillna(fill_value)\n",
    "\n",
    "# Now we can use the 'imputer'\n",
    "matrix_imputed_train = imputer.fit_transform(utility_matrix_train_filled)\n",
    "\n",
    "from sklearn.decomposition import TruncatedSVD\n",
    "## We can define the model:\n",
    "svd_train = TruncatedSVD(n_components=20, n_iter=10, random_state=3) #we are only considering the first 20 singular values\n",
    "\n",
    "Q_train = svd_train.fit_transform(matrix_imputed_train)\n",
    "\n",
    "# We reconstruct the matrix\n",
    "approx_matrix_train = np.dot(Q_train, svd_train.components_)\n",
    "\n",
    "#Convert it to Dataframe\n",
    "predicted_ratings_train = pd.DataFrame(approx_matrix_train, index=utility_matrix_train.index, columns=utility_matrix_train.columns)"
   ]
  },
  {
   "cell_type": "markdown",
   "id": "6e1d173a-a4d6-4a06-be73-a60d88a8ad76",
   "metadata": {},
   "source": [
    "Let's test our model:"
   ]
  },
  {
   "cell_type": "code",
   "execution_count": 85,
   "id": "ab4c28d8-51f6-4879-99f8-a6f3bd069ecc",
   "metadata": {},
   "outputs": [
    {
     "name": "stdout",
     "output_type": "stream",
     "text": [
      "The RMSE using TruncatedSVD is 0.9841734697764402 in the test set.\n"
     ]
    }
   ],
   "source": [
    "#We create the utility matrix for the test set:\n",
    "utility_matrix_test = X_test.pivot_table(index='userId', columns='movieId', values='rating', dropna=False)\n",
    "\n",
    "#We take the convert the matrix to a unique array\n",
    "real_flat_test = utility_matrix_test.values.flatten()\n",
    "\n",
    "#Create a mask to obtain the not null values:\n",
    "mask_test = ~np.isnan(real_flat_test)\n",
    "real_flat_masked_test = real_flat_test[mask_test]\n",
    "\n",
    "#We take the predictions made by the train set and convert them into an array\n",
    "pred_flat_train = predicted_ratings_train.values.flatten()\n",
    "pred_flat_masked_test = pred_flat_train[mask_test]\n",
    "\n",
    "# Now we calculate the RMSE for the test set:\n",
    "errors = real_flat_masked_test - pred_flat_masked_test\n",
    "squared_errors = errors ** 2\n",
    "mean_squared_error_manual = np.mean(squared_errors)\n",
    "rmse_manual = np.sqrt(mean_squared_error_manual)\n",
    "\n",
    "print('The RMSE using TruncatedSVD is {} in the test set.'.format(rmse_manual))"
   ]
  },
  {
   "cell_type": "markdown",
   "id": "9244c410-08ad-450f-8794-513076643ccb",
   "metadata": {},
   "source": [
    "As the ratings are on a scale of 0.5 to 5, an RMSE of less than 1 is usually reasonably good."
   ]
  },
  {
   "cell_type": "markdown",
   "id": "7c854135-e4bb-42da-82c1-2a90caad7273",
   "metadata": {},
   "source": [
    "We could also use the library `surprise`, that is very complete:"
   ]
  },
  {
   "cell_type": "code",
   "execution_count": 86,
   "id": "ae065355-e720-40ae-ba28-0ee7ce53de62",
   "metadata": {},
   "outputs": [
    {
     "name": "stdout",
     "output_type": "stream",
     "text": [
      "RMSE: 0.8742\n",
      "Using the library \"surprise\" we obtain a RMSE of 0.8742236919441985 in the test set.\n"
     ]
    }
   ],
   "source": [
    "from surprise import SVD\n",
    "from surprise import Dataset\n",
    "from surprise import Reader\n",
    "from surprise.model_selection import train_test_split\n",
    "from surprise import accuracy\n",
    "\n",
    "\n",
    "reader = Reader(rating_scale=(0.5, 5.0))\n",
    "\n",
    "data = Dataset.load_from_df(ratings_df[['userId', 'movieId', 'rating']], reader)\n",
    "\n",
    "trainset, testset = train_test_split(data, test_size=0.25)\n",
    "\n",
    "algo = SVD()\n",
    "\n",
    "algo.fit(trainset)\n",
    "\n",
    "predictions_test = algo.test(testset)\n",
    "\n",
    "print('Using the library \"surprise\" we obtain a RMSE of {} in the test set.'.format(accuracy.rmse(predictions_test)))"
   ]
  },
  {
   "cell_type": "markdown",
   "id": "39e93abe-d87b-443d-9e2d-79395a992ac0",
   "metadata": {},
   "source": [
    "## **Conclusion**"
   ]
  },
  {
   "cell_type": "markdown",
   "id": "97b94b4f-9382-4082-a2ce-c770e6c2fb1c",
   "metadata": {},
   "source": [
    "As we have been able to observe throughout this study, the `MovieLens dataset` is highly rich in information, consistent with the data and suitable for study and practice.\n",
    "\n",
    "We have had the opportunity to make an exhaustive study of the `movies_df` and `ratings_df` data sets, cleaning the data and improving both matrices with new features. From the developed recommendation systems, we have been able to obtain both predictive models in terms of the score, as well as recommendations based in a given movie (dealing with the 'cold start problem').\n",
    "\n",
    "**Highlights of the project:**\n",
    "\n",
    "- Development of a scraping tool to obtain information about movies.\n",
    "\n",
    "- Customization of a 'content-based' model by adding parameters and features.\n",
    "- Compression of the SVD matrix decomposition.\n",
    "\n",
    "**Future models and studies:**\n",
    "\n",
    "- Perform a chi-squared test (statistical hypothesis test) to verify whether the distribution from which the years in the data_set came could be approximated by a weibull_min.\n",
    "- Develop more complex models that incorporate neural networks.\n",
    "- Use the complete Movie_Lens_100K data set."
   ]
  }
 ],
 "metadata": {
  "kernelspec": {
   "display_name": "Python 3 (ipykernel)",
   "language": "python",
   "name": "python3"
  },
  "language_info": {
   "codemirror_mode": {
    "name": "ipython",
    "version": 3
   },
   "file_extension": ".py",
   "mimetype": "text/x-python",
   "name": "python",
   "nbconvert_exporter": "python",
   "pygments_lexer": "ipython3",
   "version": "3.12.7"
  }
 },
 "nbformat": 4,
 "nbformat_minor": 5
}
